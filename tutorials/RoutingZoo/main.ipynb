{
 "cells": [
  {
   "cell_type": "markdown",
   "metadata": {},
   "source": [
    "# Introduction to RoutingZoo"
   ]
  },
  {
   "cell_type": "markdown",
   "metadata": {},
   "source": [
    "#### Import libraries"
   ]
  },
  {
   "cell_type": "code",
   "execution_count": 1,
   "metadata": {},
   "outputs": [
    {
     "name": "stdout",
     "output_type": "stream",
     "text": [
      "Simulator path resolved to: /Users/zoltanvarga/Documents/Simulator_human_behaviour\n"
     ]
    }
   ],
   "source": [
    "import sys\n",
    "import os\n",
    "from pathlib import Path\n",
    "\n",
    "RoutingZoo = str(Path.home() / \"Documents/Simulator_human_behaviour\")\n",
    "\n",
    "sys.path.append(RoutingZoo)\n",
    "\n",
    "import data_analysis as da\n",
    "import utilities_RZ as URZ\n",
    "\n",
    "\n",
    "sys.path.append(os.path.abspath(os.path.join(os.getcwd(), '../../')))\n",
    "\n",
    "from RouteRL.environment.environment import TrafficEnvironment\n",
    "from RouteRL.keychain import Keychain as kc\n",
    "\n",
    "\n",
    "from RouteRL.utilities import check_device\n",
    "from RouteRL.utilities import get_params\n",
    "from RouteRL.utilities import set_seeds"
   ]
  },
  {
   "cell_type": "code",
   "execution_count": 2,
   "metadata": {},
   "outputs": [
    {
     "name": "stdout",
     "output_type": "stream",
     "text": [
      "[INFO] Running on device: cpu\n"
     ]
    }
   ],
   "source": [
    "check_device()\n",
    "set_seeds()\n",
    "params = get_params(\"params.json\")"
   ]
  },
  {
   "cell_type": "markdown",
   "metadata": {},
   "source": [
    "#### Environment initialization"
   ]
  },
  {
   "cell_type": "code",
   "execution_count": 3,
   "metadata": {},
   "outputs": [],
   "source": [
    "kwargs = {\n",
    "        \"learning_type\" : 'markow',\n",
    "        \"gamma_c\" : 0.2,\n",
    "        \"gamma_u\" : 0,\n",
    "        \"remember\" : 5,\n",
    "        \"greedy\" : 0,\n",
    "        \"noise_alpha\" : 0,\n",
    "        \"noise_taste\" : 0.8,\n",
    "        \"noise_random\" : 0.2,\n",
    "        \"network\":'grid1',\n",
    "        \"demand\":params[kc.AGENT_GEN][kc.NUM_AGENTS]\n",
    "        }"
   ]
  },
  {
   "cell_type": "code",
   "execution_count": 4,
   "metadata": {},
   "outputs": [
    {
     "name": "stdout",
     "output_type": "stream",
     "text": [
      "[CONFIRMED] Environment variable exists: SUMO_HOME\n",
      "[SUCCESS] Added module directory: /opt/homebrew/opt/sumo/share/sumo/tools\n"
     ]
    }
   ],
   "source": [
    "env = TrafficEnvironment(params[kc.RUNNER], params[kc.ENVIRONMENT], params[kc.SIMULATOR], params[kc.AGENT_GEN], params[kc.AGENTS], params[kc.PLOTTER],**kwargs)"
   ]
  },
  {
   "cell_type": "code",
   "execution_count": 5,
   "metadata": {},
   "outputs": [
    {
     "name": "stdout",
     "output_type": "stream",
     "text": [
      "Number of total agents is:  1000 \n",
      "\n",
      "Agents are:  [<agent.HumanAgent object at 0x1055bdeb0>, <agent.HumanAgent object at 0x1056bf2e0>, <agent.HumanAgent object at 0x12ee1b190>, <agent.HumanAgent object at 0x10566dcd0>, <agent.HumanAgent object at 0x1056bf7f0>, <agent.HumanAgent object at 0x1056bf820>, <agent.HumanAgent object at 0x1056bf190>, <agent.HumanAgent object at 0x1056bfc70>, <agent.HumanAgent object at 0x1056bf460>, <agent.HumanAgent object at 0x12ee1bd90>, <agent.HumanAgent object at 0x12ee1b9a0>, <agent.HumanAgent object at 0x1056bf490>, <agent.HumanAgent object at 0x12ee1ba30>, <agent.HumanAgent object at 0x105687df0>, <agent.HumanAgent object at 0x105687b20>, <agent.HumanAgent object at 0x105687280>, <agent.HumanAgent object at 0x105687b80>, <agent.HumanAgent object at 0x105687580>, <agent.HumanAgent object at 0x105687340>, <agent.HumanAgent object at 0x1056878b0>, <agent.HumanAgent object at 0x105687f70>, <agent.HumanAgent object at 0x1056bf310>, <agent.HumanAgent object at 0x105687c40>, <agent.HumanAgent object at 0x105687310>, <agent.HumanAgent object at 0x12ee2d670>, <agent.HumanAgent object at 0x105687a30>, <agent.HumanAgent object at 0x105687160>, <agent.HumanAgent object at 0x12ee2df40>, <agent.HumanAgent object at 0x28a6c3910>, <agent.HumanAgent object at 0x1056874f0>, <agent.HumanAgent object at 0x105687790>, <agent.HumanAgent object at 0x12ee2d5b0>, <agent.HumanAgent object at 0x1056876a0>, <agent.HumanAgent object at 0x12ee2d910>, <agent.HumanAgent object at 0x28a20edf0>, <agent.HumanAgent object at 0x28a20ee20>, <agent.HumanAgent object at 0x12ee2d850>, <agent.HumanAgent object at 0x28a20ee50>, <agent.HumanAgent object at 0x28a20ee80>, <agent.HumanAgent object at 0x28a6d03d0>, <agent.HumanAgent object at 0x28a6d0460>, <agent.HumanAgent object at 0x28a6d0430>, <agent.HumanAgent object at 0x28a6d0b20>, <agent.HumanAgent object at 0x28a6d0b50>, <agent.HumanAgent object at 0x28a6d0b80>, <agent.HumanAgent object at 0x28a6d0bb0>, <agent.HumanAgent object at 0x28a6d0be0>, <agent.HumanAgent object at 0x28a6d0c10>, <agent.HumanAgent object at 0x28a6d0c40>, <agent.HumanAgent object at 0x28a6d0c70>, <agent.HumanAgent object at 0x28a6d0ca0>, <agent.HumanAgent object at 0x28a6d0cd0>, <agent.HumanAgent object at 0x28a6d0d00>, <agent.HumanAgent object at 0x28a6d0d30>, <agent.HumanAgent object at 0x28a6d0d60>, <agent.HumanAgent object at 0x28a6d0d90>, <agent.HumanAgent object at 0x28a6d0dc0>, <agent.HumanAgent object at 0x28a6d0df0>, <agent.HumanAgent object at 0x28a6d0e20>, <agent.HumanAgent object at 0x28a6d0e50>, <agent.HumanAgent object at 0x28a6d0e80>, <agent.HumanAgent object at 0x28a6d0eb0>, <agent.HumanAgent object at 0x28a6d0ee0>, <agent.HumanAgent object at 0x28a6d0f10>, <agent.HumanAgent object at 0x28a6d0f40>, <agent.HumanAgent object at 0x28a6d0f70>, <agent.HumanAgent object at 0x28a6d0fa0>, <agent.HumanAgent object at 0x28a6d0fd0>, <agent.HumanAgent object at 0x28a6d03a0>, <agent.HumanAgent object at 0x28a6d0370>, <agent.HumanAgent object at 0x28a6d01f0>, <agent.HumanAgent object at 0x28a6d0220>, <agent.HumanAgent object at 0x28a6d02b0>, <agent.HumanAgent object at 0x28a6d0340>, <agent.HumanAgent object at 0x28a6d02e0>, <agent.HumanAgent object at 0x28a6d0250>, <agent.HumanAgent object at 0x28a6d0280>, <agent.HumanAgent object at 0x12ee2dac0>, <agent.HumanAgent object at 0x28a6d0400>, <agent.HumanAgent object at 0x28a72b250>, <agent.HumanAgent object at 0x28a72b280>, <agent.HumanAgent object at 0x28a72b2b0>, <agent.HumanAgent object at 0x28a72b2e0>, <agent.HumanAgent object at 0x28a72b310>, <agent.HumanAgent object at 0x28a72b340>, <agent.HumanAgent object at 0x28a72b370>, <agent.HumanAgent object at 0x28a72b3a0>, <agent.HumanAgent object at 0x28a72b3d0>, <agent.HumanAgent object at 0x28a72b400>, <agent.HumanAgent object at 0x28a72b430>, <agent.HumanAgent object at 0x28a72b460>, <agent.HumanAgent object at 0x28a72b490>, <agent.HumanAgent object at 0x28a72b4c0>, <agent.HumanAgent object at 0x28a72b4f0>, <agent.HumanAgent object at 0x28a72b520>, <agent.HumanAgent object at 0x28a72b550>, <agent.HumanAgent object at 0x28a72b580>, <agent.HumanAgent object at 0x28a72b5b0>, <agent.HumanAgent object at 0x28a72b5e0>, <agent.HumanAgent object at 0x28a72b610>, <agent.HumanAgent object at 0x28a72b640>, <agent.HumanAgent object at 0x28a72b670>, <agent.HumanAgent object at 0x28a72b6a0>, <agent.HumanAgent object at 0x28a72b6d0>, <agent.HumanAgent object at 0x28a72b700>, <agent.HumanAgent object at 0x28a72b730>, <agent.HumanAgent object at 0x28a72b760>, <agent.HumanAgent object at 0x28a72b790>, <agent.HumanAgent object at 0x28a72b7c0>, <agent.HumanAgent object at 0x28a72b7f0>, <agent.HumanAgent object at 0x28a72b820>, <agent.HumanAgent object at 0x28a72b850>, <agent.HumanAgent object at 0x28a72b880>, <agent.HumanAgent object at 0x28a72b8b0>, <agent.HumanAgent object at 0x28a72b8e0>, <agent.HumanAgent object at 0x28a72b910>, <agent.HumanAgent object at 0x28a72b940>, <agent.HumanAgent object at 0x28a72b970>, <agent.HumanAgent object at 0x28a72b9a0>, <agent.HumanAgent object at 0x28a72b9d0>, <agent.HumanAgent object at 0x28a72ba00>, <agent.HumanAgent object at 0x28a72ba30>, <agent.HumanAgent object at 0x28a72ba60>, <agent.HumanAgent object at 0x28a72ba90>, <agent.HumanAgent object at 0x28a72bac0>, <agent.HumanAgent object at 0x28a72baf0>, <agent.HumanAgent object at 0x28a72bb20>, <agent.HumanAgent object at 0x28a72bb50>, <agent.HumanAgent object at 0x28a72bb80>, <agent.HumanAgent object at 0x28a72bbb0>, <agent.HumanAgent object at 0x28a72bbe0>, <agent.HumanAgent object at 0x28a72bc10>, <agent.HumanAgent object at 0x28a72bc40>, <agent.HumanAgent object at 0x28a72bc70>, <agent.HumanAgent object at 0x28a72bca0>, <agent.HumanAgent object at 0x28a72bcd0>, <agent.HumanAgent object at 0x28a72bd00>, <agent.HumanAgent object at 0x28a72bd30>, <agent.HumanAgent object at 0x28a72bd60>, <agent.HumanAgent object at 0x28a72bd90>, <agent.HumanAgent object at 0x28a72bdc0>, <agent.HumanAgent object at 0x28a72bdf0>, <agent.HumanAgent object at 0x28a72be20>, <agent.HumanAgent object at 0x28a72be50>, <agent.HumanAgent object at 0x28a72be80>, <agent.HumanAgent object at 0x28a72beb0>, <agent.HumanAgent object at 0x28a72bee0>, <agent.HumanAgent object at 0x28a72bf10>, <agent.HumanAgent object at 0x28a72bf40>, <agent.HumanAgent object at 0x28a72bf70>, <agent.HumanAgent object at 0x28a72bfa0>, <agent.HumanAgent object at 0x28a72bfd0>, <agent.HumanAgent object at 0x28a72b220>, <agent.HumanAgent object at 0x28a72b100>, <agent.HumanAgent object at 0x28a72b1f0>, <agent.HumanAgent object at 0x28a72b040>, <agent.HumanAgent object at 0x28a72b130>, <agent.HumanAgent object at 0x28a72b160>, <agent.HumanAgent object at 0x28a72b0a0>, <agent.HumanAgent object at 0x28a72b070>, <agent.HumanAgent object at 0x28a72b1c0>, <agent.HumanAgent object at 0x28a6d0310>, <agent.HumanAgent object at 0x28a72b0d0>, <agent.HumanAgent object at 0x28a754250>, <agent.HumanAgent object at 0x28a754280>, <agent.HumanAgent object at 0x28a7542b0>, <agent.HumanAgent object at 0x28a7542e0>, <agent.HumanAgent object at 0x28a754310>, <agent.HumanAgent object at 0x28a754340>, <agent.HumanAgent object at 0x28a754370>, <agent.HumanAgent object at 0x28a7543a0>, <agent.HumanAgent object at 0x28a7543d0>, <agent.HumanAgent object at 0x28a754400>, <agent.HumanAgent object at 0x28a754430>, <agent.HumanAgent object at 0x28a754460>, <agent.HumanAgent object at 0x28a754490>, <agent.HumanAgent object at 0x28a7544c0>, <agent.HumanAgent object at 0x28a7544f0>, <agent.HumanAgent object at 0x28a754520>, <agent.HumanAgent object at 0x28a754550>, <agent.HumanAgent object at 0x28a754580>, <agent.HumanAgent object at 0x28a7545b0>, <agent.HumanAgent object at 0x28a7545e0>, <agent.HumanAgent object at 0x28a754610>, <agent.HumanAgent object at 0x28a754640>, <agent.HumanAgent object at 0x28a754670>, <agent.HumanAgent object at 0x28a7546a0>, <agent.HumanAgent object at 0x28a7546d0>, <agent.HumanAgent object at 0x28a754700>, <agent.HumanAgent object at 0x28a754730>, <agent.HumanAgent object at 0x28a754760>, <agent.HumanAgent object at 0x28a754790>, <agent.HumanAgent object at 0x28a7547c0>, <agent.HumanAgent object at 0x28a7547f0>, <agent.HumanAgent object at 0x28a754820>, <agent.HumanAgent object at 0x28a754850>, <agent.HumanAgent object at 0x28a754880>, <agent.HumanAgent object at 0x28a7548b0>, <agent.HumanAgent object at 0x28a7548e0>, <agent.HumanAgent object at 0x28a754910>, <agent.HumanAgent object at 0x28a754940>, <agent.HumanAgent object at 0x28a754970>, <agent.HumanAgent object at 0x28a7549a0>, <agent.HumanAgent object at 0x28a7549d0>, <agent.HumanAgent object at 0x28a754a00>, <agent.HumanAgent object at 0x28a754a30>, <agent.HumanAgent object at 0x28a754a60>, <agent.HumanAgent object at 0x28a754a90>, <agent.HumanAgent object at 0x28a754ac0>, <agent.HumanAgent object at 0x28a754af0>, <agent.HumanAgent object at 0x28a754b20>, <agent.HumanAgent object at 0x28a754b50>, <agent.HumanAgent object at 0x28a754b80>, <agent.HumanAgent object at 0x28a754bb0>, <agent.HumanAgent object at 0x28a754be0>, <agent.HumanAgent object at 0x28a754c10>, <agent.HumanAgent object at 0x28a754c40>, <agent.HumanAgent object at 0x28a754c70>, <agent.HumanAgent object at 0x28a754ca0>, <agent.HumanAgent object at 0x28a754cd0>, <agent.HumanAgent object at 0x28a754d00>, <agent.HumanAgent object at 0x28a754d30>, <agent.HumanAgent object at 0x28a754d60>, <agent.HumanAgent object at 0x28a754d90>, <agent.HumanAgent object at 0x28a754dc0>, <agent.HumanAgent object at 0x28a754df0>, <agent.HumanAgent object at 0x28a754e20>, <agent.HumanAgent object at 0x28a754e50>, <agent.HumanAgent object at 0x28a754e80>, <agent.HumanAgent object at 0x28a754eb0>, <agent.HumanAgent object at 0x28a754ee0>, <agent.HumanAgent object at 0x28a754f10>, <agent.HumanAgent object at 0x28a754f40>, <agent.HumanAgent object at 0x28a754f70>, <agent.HumanAgent object at 0x28a754fa0>, <agent.HumanAgent object at 0x28a754fd0>, <agent.HumanAgent object at 0x28a754220>, <agent.HumanAgent object at 0x28a754100>, <agent.HumanAgent object at 0x28a7541f0>, <agent.HumanAgent object at 0x28a754040>, <agent.HumanAgent object at 0x28a754130>, <agent.HumanAgent object at 0x28a754160>, <agent.HumanAgent object at 0x28a7540a0>, <agent.HumanAgent object at 0x28a754070>, <agent.HumanAgent object at 0x28a7541c0>, <agent.HumanAgent object at 0x28a72b190>, <agent.HumanAgent object at 0x28a7540d0>, <agent.HumanAgent object at 0x28a7c1250>, <agent.HumanAgent object at 0x28a7c1280>, <agent.HumanAgent object at 0x28a7c12b0>, <agent.HumanAgent object at 0x28a7c12e0>, <agent.HumanAgent object at 0x28a7c1310>, <agent.HumanAgent object at 0x28a7c1340>, <agent.HumanAgent object at 0x28a7c1370>, <agent.HumanAgent object at 0x28a7c13a0>, <agent.HumanAgent object at 0x28a7c13d0>, <agent.HumanAgent object at 0x28a7c1400>, <agent.HumanAgent object at 0x28a7c1430>, <agent.HumanAgent object at 0x28a7c1460>, <agent.HumanAgent object at 0x28a7c1490>, <agent.HumanAgent object at 0x28a7c14c0>, <agent.HumanAgent object at 0x28a7c14f0>, <agent.HumanAgent object at 0x28a7c1520>, <agent.HumanAgent object at 0x28a7c1550>, <agent.HumanAgent object at 0x28a7c1580>, <agent.HumanAgent object at 0x28a7c15b0>, <agent.HumanAgent object at 0x28a7c15e0>, <agent.HumanAgent object at 0x28a7c1610>, <agent.HumanAgent object at 0x28a7c1640>, <agent.HumanAgent object at 0x28a7c1670>, <agent.HumanAgent object at 0x28a7c16a0>, <agent.HumanAgent object at 0x28a7c16d0>, <agent.HumanAgent object at 0x28a7c1700>, <agent.HumanAgent object at 0x28a7c1730>, <agent.HumanAgent object at 0x28a7c1760>, <agent.HumanAgent object at 0x28a7c1790>, <agent.HumanAgent object at 0x28a7c17c0>, <agent.HumanAgent object at 0x28a7c17f0>, <agent.HumanAgent object at 0x28a7c1820>, <agent.HumanAgent object at 0x28a7c1850>, <agent.HumanAgent object at 0x28a7c1880>, <agent.HumanAgent object at 0x28a7c18b0>, <agent.HumanAgent object at 0x28a7c18e0>, <agent.HumanAgent object at 0x28a7c1910>, <agent.HumanAgent object at 0x28a7c1940>, <agent.HumanAgent object at 0x28a7c1970>, <agent.HumanAgent object at 0x28a7c19a0>, <agent.HumanAgent object at 0x28a7c19d0>, <agent.HumanAgent object at 0x28a7c1a00>, <agent.HumanAgent object at 0x28a7c1a30>, <agent.HumanAgent object at 0x28a7c1a60>, <agent.HumanAgent object at 0x28a7c1a90>, <agent.HumanAgent object at 0x28a7c1ac0>, <agent.HumanAgent object at 0x28a7c1af0>, <agent.HumanAgent object at 0x28a7c1b20>, <agent.HumanAgent object at 0x28a7c1b50>, <agent.HumanAgent object at 0x28a7c1b80>, <agent.HumanAgent object at 0x28a7c1bb0>, <agent.HumanAgent object at 0x28a7c1be0>, <agent.HumanAgent object at 0x28a7c1c10>, <agent.HumanAgent object at 0x28a7c1c40>, <agent.HumanAgent object at 0x28a7c1c70>, <agent.HumanAgent object at 0x28a7c1ca0>, <agent.HumanAgent object at 0x28a7c1cd0>, <agent.HumanAgent object at 0x28a7c1d00>, <agent.HumanAgent object at 0x28a7c1d30>, <agent.HumanAgent object at 0x28a7c1d60>, <agent.HumanAgent object at 0x28a7c1d90>, <agent.HumanAgent object at 0x28a7c1dc0>, <agent.HumanAgent object at 0x28a7c1df0>, <agent.HumanAgent object at 0x28a7c1e20>, <agent.HumanAgent object at 0x28a7c1e50>, <agent.HumanAgent object at 0x28a7c1e80>, <agent.HumanAgent object at 0x28a7c1eb0>, <agent.HumanAgent object at 0x28a7c1ee0>, <agent.HumanAgent object at 0x28a7c1f10>, <agent.HumanAgent object at 0x28a7c1f40>, <agent.HumanAgent object at 0x28a7c1f70>, <agent.HumanAgent object at 0x28a7c1fa0>, <agent.HumanAgent object at 0x28a7c1fd0>, <agent.HumanAgent object at 0x28a7c1220>, <agent.HumanAgent object at 0x28a7c1100>, <agent.HumanAgent object at 0x28a7c11f0>, <agent.HumanAgent object at 0x28a7c1040>, <agent.HumanAgent object at 0x28a7c1130>, <agent.HumanAgent object at 0x28a7c1160>, <agent.HumanAgent object at 0x28a7c10a0>, <agent.HumanAgent object at 0x28a7c1070>, <agent.HumanAgent object at 0x28a7c11c0>, <agent.HumanAgent object at 0x28a754190>, <agent.HumanAgent object at 0x28a7c10d0>, <agent.HumanAgent object at 0x28a7e8250>, <agent.HumanAgent object at 0x28a7e8280>, <agent.HumanAgent object at 0x28a7e82b0>, <agent.HumanAgent object at 0x28a7e82e0>, <agent.HumanAgent object at 0x28a7e8310>, <agent.HumanAgent object at 0x28a7e8340>, <agent.HumanAgent object at 0x28a7e8370>, <agent.HumanAgent object at 0x28a7e83a0>, <agent.HumanAgent object at 0x28a7e83d0>, <agent.HumanAgent object at 0x28a7e8400>, <agent.HumanAgent object at 0x28a7e8430>, <agent.HumanAgent object at 0x28a7e8460>, <agent.HumanAgent object at 0x28a7e8490>, <agent.HumanAgent object at 0x28a7e84c0>, <agent.HumanAgent object at 0x28a7e84f0>, <agent.HumanAgent object at 0x28a7e8520>, <agent.HumanAgent object at 0x28a7e8550>, <agent.HumanAgent object at 0x28a7e8580>, <agent.HumanAgent object at 0x28a7e85b0>, <agent.HumanAgent object at 0x28a7e85e0>, <agent.HumanAgent object at 0x28a7e8610>, <agent.HumanAgent object at 0x28a7e8640>, <agent.HumanAgent object at 0x28a7e8670>, <agent.HumanAgent object at 0x28a7e86a0>, <agent.HumanAgent object at 0x28a7e86d0>, <agent.HumanAgent object at 0x28a7e8700>, <agent.HumanAgent object at 0x28a7e8730>, <agent.HumanAgent object at 0x28a7e8760>, <agent.HumanAgent object at 0x28a7e8790>, <agent.HumanAgent object at 0x28a7e87c0>, <agent.HumanAgent object at 0x28a7e87f0>, <agent.HumanAgent object at 0x28a7e8820>, <agent.HumanAgent object at 0x28a7e8850>, <agent.HumanAgent object at 0x28a7e8880>, <agent.HumanAgent object at 0x28a7e88b0>, <agent.HumanAgent object at 0x28a7e88e0>, <agent.HumanAgent object at 0x28a7e8910>, <agent.HumanAgent object at 0x28a7e8940>, <agent.HumanAgent object at 0x28a7e8970>, <agent.HumanAgent object at 0x28a7e89a0>, <agent.HumanAgent object at 0x28a7e89d0>, <agent.HumanAgent object at 0x28a7e8a00>, <agent.HumanAgent object at 0x28a7e8a30>, <agent.HumanAgent object at 0x28a7e8a60>, <agent.HumanAgent object at 0x28a7e8a90>, <agent.HumanAgent object at 0x28a7e8ac0>, <agent.HumanAgent object at 0x28a7e8af0>, <agent.HumanAgent object at 0x28a7e8b20>, <agent.HumanAgent object at 0x28a7e8b50>, <agent.HumanAgent object at 0x28a7e8b80>, <agent.HumanAgent object at 0x28a7e8bb0>, <agent.HumanAgent object at 0x28a7e8be0>, <agent.HumanAgent object at 0x28a7e8c10>, <agent.HumanAgent object at 0x28a7e8c40>, <agent.HumanAgent object at 0x28a7e8c70>, <agent.HumanAgent object at 0x28a7e8ca0>, <agent.HumanAgent object at 0x28a7e8cd0>, <agent.HumanAgent object at 0x28a7e8d00>, <agent.HumanAgent object at 0x28a7e8d30>, <agent.HumanAgent object at 0x28a7e8d60>, <agent.HumanAgent object at 0x28a7e8d90>, <agent.HumanAgent object at 0x28a7e8dc0>, <agent.HumanAgent object at 0x28a7e8df0>, <agent.HumanAgent object at 0x28a7e8e20>, <agent.HumanAgent object at 0x28a7e8e50>, <agent.HumanAgent object at 0x28a7e8e80>, <agent.HumanAgent object at 0x28a7e8eb0>, <agent.HumanAgent object at 0x28a7e8ee0>, <agent.HumanAgent object at 0x28a7e8f10>, <agent.HumanAgent object at 0x28a7e8f40>, <agent.HumanAgent object at 0x28a7e8f70>, <agent.HumanAgent object at 0x28a7e8fa0>, <agent.HumanAgent object at 0x28a7e8fd0>, <agent.HumanAgent object at 0x28a7e8220>, <agent.HumanAgent object at 0x28a7e8100>, <agent.HumanAgent object at 0x28a7e81f0>, <agent.HumanAgent object at 0x28a7e8040>, <agent.HumanAgent object at 0x28a7e8130>, <agent.HumanAgent object at 0x28a7e8160>, <agent.HumanAgent object at 0x28a7e80a0>, <agent.HumanAgent object at 0x28a7e8070>, <agent.HumanAgent object at 0x28a7e81c0>, <agent.HumanAgent object at 0x28a7c1190>, <agent.HumanAgent object at 0x28a7e80d0>, <agent.HumanAgent object at 0x28ae1d250>, <agent.HumanAgent object at 0x28ae1d280>, <agent.HumanAgent object at 0x28ae1d2b0>, <agent.HumanAgent object at 0x28ae1d2e0>, <agent.HumanAgent object at 0x28ae1d310>, <agent.HumanAgent object at 0x28ae1d340>, <agent.HumanAgent object at 0x28ae1d370>, <agent.HumanAgent object at 0x28ae1d3a0>, <agent.HumanAgent object at 0x28ae1d3d0>, <agent.HumanAgent object at 0x28ae1d400>, <agent.HumanAgent object at 0x28ae1d430>, <agent.HumanAgent object at 0x28ae1d460>, <agent.HumanAgent object at 0x28ae1d490>, <agent.HumanAgent object at 0x28ae1d4c0>, <agent.HumanAgent object at 0x28ae1d4f0>, <agent.HumanAgent object at 0x28ae1d520>, <agent.HumanAgent object at 0x28ae1d550>, <agent.HumanAgent object at 0x28ae1d580>, <agent.HumanAgent object at 0x28ae1d5b0>, <agent.HumanAgent object at 0x28ae1d5e0>, <agent.HumanAgent object at 0x28ae1d610>, <agent.HumanAgent object at 0x28ae1d640>, <agent.HumanAgent object at 0x28ae1d670>, <agent.HumanAgent object at 0x28ae1d6a0>, <agent.HumanAgent object at 0x28ae1d6d0>, <agent.HumanAgent object at 0x28ae1d700>, <agent.HumanAgent object at 0x28ae1d730>, <agent.HumanAgent object at 0x28ae1d760>, <agent.HumanAgent object at 0x28ae1d790>, <agent.HumanAgent object at 0x28ae1d7c0>, <agent.HumanAgent object at 0x28ae1d7f0>, <agent.HumanAgent object at 0x28ae1d820>, <agent.HumanAgent object at 0x28ae1d850>, <agent.HumanAgent object at 0x28ae1d880>, <agent.HumanAgent object at 0x28ae1d8b0>, <agent.HumanAgent object at 0x28ae1d8e0>, <agent.HumanAgent object at 0x28ae1d910>, <agent.HumanAgent object at 0x28ae1d940>, <agent.HumanAgent object at 0x28ae1d970>, <agent.HumanAgent object at 0x28ae1d9a0>, <agent.HumanAgent object at 0x28ae1d9d0>, <agent.HumanAgent object at 0x28ae1da00>, <agent.HumanAgent object at 0x28ae1da30>, <agent.HumanAgent object at 0x28ae1da60>, <agent.HumanAgent object at 0x28ae1da90>, <agent.HumanAgent object at 0x28ae1dac0>, <agent.HumanAgent object at 0x28ae1daf0>, <agent.HumanAgent object at 0x28ae1db20>, <agent.HumanAgent object at 0x28ae1db50>, <agent.HumanAgent object at 0x28ae1db80>, <agent.HumanAgent object at 0x28ae1dbb0>, <agent.HumanAgent object at 0x28ae1dbe0>, <agent.HumanAgent object at 0x28ae1dc10>, <agent.HumanAgent object at 0x28ae1dc40>, <agent.HumanAgent object at 0x28ae1dc70>, <agent.HumanAgent object at 0x28ae1dca0>, <agent.HumanAgent object at 0x28ae1dcd0>, <agent.HumanAgent object at 0x28ae1dd00>, <agent.HumanAgent object at 0x28ae1dd30>, <agent.HumanAgent object at 0x28ae1dd60>, <agent.HumanAgent object at 0x28ae1dd90>, <agent.HumanAgent object at 0x28ae1ddc0>, <agent.HumanAgent object at 0x28ae1ddf0>, <agent.HumanAgent object at 0x28ae1de20>, <agent.HumanAgent object at 0x28ae1de50>, <agent.HumanAgent object at 0x28ae1de80>, <agent.HumanAgent object at 0x28ae1deb0>, <agent.HumanAgent object at 0x28ae1dee0>, <agent.HumanAgent object at 0x28ae1df10>, <agent.HumanAgent object at 0x28ae1df40>, <agent.HumanAgent object at 0x28ae1df70>, <agent.HumanAgent object at 0x28ae1dfa0>, <agent.HumanAgent object at 0x28ae1dfd0>, <agent.HumanAgent object at 0x28ae1d220>, <agent.HumanAgent object at 0x28ae1d100>, <agent.HumanAgent object at 0x28ae1d1f0>, <agent.HumanAgent object at 0x28ae1d040>, <agent.HumanAgent object at 0x28ae1d130>, <agent.HumanAgent object at 0x28ae1d160>, <agent.HumanAgent object at 0x28ae1d0a0>, <agent.HumanAgent object at 0x28ae1d070>, <agent.HumanAgent object at 0x28ae1d1c0>, <agent.HumanAgent object at 0x28a7e8190>, <agent.HumanAgent object at 0x28ae1d0d0>, <agent.HumanAgent object at 0x28ae46250>, <agent.HumanAgent object at 0x28ae46280>, <agent.HumanAgent object at 0x28ae462b0>, <agent.HumanAgent object at 0x28ae462e0>, <agent.HumanAgent object at 0x28ae46310>, <agent.HumanAgent object at 0x28ae46340>, <agent.HumanAgent object at 0x28ae46370>, <agent.HumanAgent object at 0x28ae463a0>, <agent.HumanAgent object at 0x28ae463d0>, <agent.HumanAgent object at 0x28ae46400>, <agent.HumanAgent object at 0x28ae46430>, <agent.HumanAgent object at 0x28ae46460>, <agent.HumanAgent object at 0x28ae46490>, <agent.HumanAgent object at 0x28ae464c0>, <agent.HumanAgent object at 0x28ae464f0>, <agent.HumanAgent object at 0x28ae46520>, <agent.HumanAgent object at 0x28ae46550>, <agent.HumanAgent object at 0x28ae46580>, <agent.HumanAgent object at 0x28ae465b0>, <agent.HumanAgent object at 0x28ae465e0>, <agent.HumanAgent object at 0x28ae46610>, <agent.HumanAgent object at 0x28ae46640>, <agent.HumanAgent object at 0x28ae46670>, <agent.HumanAgent object at 0x28ae466a0>, <agent.HumanAgent object at 0x28ae466d0>, <agent.HumanAgent object at 0x28ae46700>, <agent.HumanAgent object at 0x28ae46730>, <agent.HumanAgent object at 0x28ae46760>, <agent.HumanAgent object at 0x28ae46790>, <agent.HumanAgent object at 0x28ae467c0>, <agent.HumanAgent object at 0x28ae467f0>, <agent.HumanAgent object at 0x28ae46820>, <agent.HumanAgent object at 0x28ae46850>, <agent.HumanAgent object at 0x28ae46880>, <agent.HumanAgent object at 0x28ae468b0>, <agent.HumanAgent object at 0x28ae468e0>, <agent.HumanAgent object at 0x28ae46910>, <agent.HumanAgent object at 0x28ae46940>, <agent.HumanAgent object at 0x28ae46970>, <agent.HumanAgent object at 0x28ae469a0>, <agent.HumanAgent object at 0x28ae469d0>, <agent.HumanAgent object at 0x28ae46a00>, <agent.HumanAgent object at 0x28ae46a30>, <agent.HumanAgent object at 0x28ae46a60>, <agent.HumanAgent object at 0x28ae46a90>, <agent.HumanAgent object at 0x28ae46ac0>, <agent.HumanAgent object at 0x28ae46af0>, <agent.HumanAgent object at 0x28ae46b20>, <agent.HumanAgent object at 0x28ae46b50>, <agent.HumanAgent object at 0x28ae46b80>, <agent.HumanAgent object at 0x28ae46bb0>, <agent.HumanAgent object at 0x28ae46be0>, <agent.HumanAgent object at 0x28ae46c10>, <agent.HumanAgent object at 0x28ae46c40>, <agent.HumanAgent object at 0x28ae46c70>, <agent.HumanAgent object at 0x28ae46ca0>, <agent.HumanAgent object at 0x28ae46cd0>, <agent.HumanAgent object at 0x28ae46d00>, <agent.HumanAgent object at 0x28ae46d30>, <agent.HumanAgent object at 0x28ae46d60>, <agent.HumanAgent object at 0x28ae46d90>, <agent.HumanAgent object at 0x28ae46dc0>, <agent.HumanAgent object at 0x28ae46df0>, <agent.HumanAgent object at 0x28ae46e20>, <agent.HumanAgent object at 0x28ae46e50>, <agent.HumanAgent object at 0x28ae46e80>, <agent.HumanAgent object at 0x28ae46eb0>, <agent.HumanAgent object at 0x28ae46ee0>, <agent.HumanAgent object at 0x28ae46f10>, <agent.HumanAgent object at 0x28ae46f40>, <agent.HumanAgent object at 0x28ae46f70>, <agent.HumanAgent object at 0x28ae46fa0>, <agent.HumanAgent object at 0x28ae46fd0>, <agent.HumanAgent object at 0x28ae46220>, <agent.HumanAgent object at 0x28ae46100>, <agent.HumanAgent object at 0x28ae461f0>, <agent.HumanAgent object at 0x28ae46040>, <agent.HumanAgent object at 0x28ae46130>, <agent.HumanAgent object at 0x28ae46160>, <agent.HumanAgent object at 0x28ae460a0>, <agent.HumanAgent object at 0x28ae46070>, <agent.HumanAgent object at 0x28ae461c0>, <agent.HumanAgent object at 0x28ae1d190>, <agent.HumanAgent object at 0x28ae460d0>, <agent.HumanAgent object at 0x28ae6d250>, <agent.HumanAgent object at 0x28ae6d280>, <agent.HumanAgent object at 0x28ae6d2b0>, <agent.HumanAgent object at 0x28ae6d2e0>, <agent.HumanAgent object at 0x28ae6d310>, <agent.HumanAgent object at 0x28ae6d340>, <agent.HumanAgent object at 0x28ae6d370>, <agent.HumanAgent object at 0x28ae6d3a0>, <agent.HumanAgent object at 0x28ae6d3d0>, <agent.HumanAgent object at 0x28ae6d400>, <agent.HumanAgent object at 0x28ae6d430>, <agent.HumanAgent object at 0x28ae6d460>, <agent.HumanAgent object at 0x28ae6d490>, <agent.HumanAgent object at 0x28ae6d4c0>, <agent.HumanAgent object at 0x28ae6d4f0>, <agent.HumanAgent object at 0x28ae6d520>, <agent.HumanAgent object at 0x28ae6d550>, <agent.HumanAgent object at 0x28ae6d580>, <agent.HumanAgent object at 0x28ae6d5b0>, <agent.HumanAgent object at 0x28ae6d5e0>, <agent.HumanAgent object at 0x28ae6d610>, <agent.HumanAgent object at 0x28ae6d640>, <agent.HumanAgent object at 0x28ae6d670>, <agent.HumanAgent object at 0x28ae6d6a0>, <agent.HumanAgent object at 0x28ae6d6d0>, <agent.HumanAgent object at 0x28ae6d700>, <agent.HumanAgent object at 0x28ae6d730>, <agent.HumanAgent object at 0x28ae6d760>, <agent.HumanAgent object at 0x28ae6d790>, <agent.HumanAgent object at 0x28ae6d7c0>, <agent.HumanAgent object at 0x28ae6d7f0>, <agent.HumanAgent object at 0x28ae6d820>, <agent.HumanAgent object at 0x28ae6d850>, <agent.HumanAgent object at 0x28ae6d880>, <agent.HumanAgent object at 0x28ae6d8b0>, <agent.HumanAgent object at 0x28ae6d8e0>, <agent.HumanAgent object at 0x28ae6d910>, <agent.HumanAgent object at 0x28ae6d940>, <agent.HumanAgent object at 0x28ae6d970>, <agent.HumanAgent object at 0x28ae6d9a0>, <agent.HumanAgent object at 0x28ae6d9d0>, <agent.HumanAgent object at 0x28ae6da00>, <agent.HumanAgent object at 0x28ae6da30>, <agent.HumanAgent object at 0x28ae6da60>, <agent.HumanAgent object at 0x28ae6da90>, <agent.HumanAgent object at 0x28ae6dac0>, <agent.HumanAgent object at 0x28ae6daf0>, <agent.HumanAgent object at 0x28ae6db20>, <agent.HumanAgent object at 0x28ae6db50>, <agent.HumanAgent object at 0x28ae6db80>, <agent.HumanAgent object at 0x28ae6dbb0>, <agent.HumanAgent object at 0x28ae6dbe0>, <agent.HumanAgent object at 0x28ae6dc10>, <agent.HumanAgent object at 0x28ae6dc40>, <agent.HumanAgent object at 0x28ae6dc70>, <agent.HumanAgent object at 0x28ae6dca0>, <agent.HumanAgent object at 0x28ae6dcd0>, <agent.HumanAgent object at 0x28ae6dd00>, <agent.HumanAgent object at 0x28ae6dd30>, <agent.HumanAgent object at 0x28ae6dd60>, <agent.HumanAgent object at 0x28ae6dd90>, <agent.HumanAgent object at 0x28ae6ddc0>, <agent.HumanAgent object at 0x28ae6ddf0>, <agent.HumanAgent object at 0x28ae6de20>, <agent.HumanAgent object at 0x28ae6de50>, <agent.HumanAgent object at 0x28ae6de80>, <agent.HumanAgent object at 0x28ae6deb0>, <agent.HumanAgent object at 0x28ae6dee0>, <agent.HumanAgent object at 0x28ae6df10>, <agent.HumanAgent object at 0x28ae6df40>, <agent.HumanAgent object at 0x28ae6df70>, <agent.HumanAgent object at 0x28ae6dfa0>, <agent.HumanAgent object at 0x28ae6dfd0>, <agent.HumanAgent object at 0x28ae6d220>, <agent.HumanAgent object at 0x28ae6d100>, <agent.HumanAgent object at 0x28ae6d1f0>, <agent.HumanAgent object at 0x28ae6d040>, <agent.HumanAgent object at 0x28ae6d130>, <agent.HumanAgent object at 0x28ae6d160>, <agent.HumanAgent object at 0x28ae6d0a0>, <agent.HumanAgent object at 0x28ae6d070>, <agent.HumanAgent object at 0x28ae6d1c0>, <agent.HumanAgent object at 0x28ae46190>, <agent.HumanAgent object at 0x28ae6d0d0>, <agent.HumanAgent object at 0x28ae96250>, <agent.HumanAgent object at 0x28ae96280>, <agent.HumanAgent object at 0x28ae962b0>, <agent.HumanAgent object at 0x28ae962e0>, <agent.HumanAgent object at 0x28ae96310>, <agent.HumanAgent object at 0x28ae96340>, <agent.HumanAgent object at 0x28ae96370>, <agent.HumanAgent object at 0x28ae963a0>, <agent.HumanAgent object at 0x28ae963d0>, <agent.HumanAgent object at 0x28ae96400>, <agent.HumanAgent object at 0x28ae96430>, <agent.HumanAgent object at 0x28ae96460>, <agent.HumanAgent object at 0x28ae96490>, <agent.HumanAgent object at 0x28ae964c0>, <agent.HumanAgent object at 0x28ae964f0>, <agent.HumanAgent object at 0x28ae96520>, <agent.HumanAgent object at 0x28ae96550>, <agent.HumanAgent object at 0x28ae96580>, <agent.HumanAgent object at 0x28ae965b0>, <agent.HumanAgent object at 0x28ae965e0>, <agent.HumanAgent object at 0x28ae96610>, <agent.HumanAgent object at 0x28ae96640>, <agent.HumanAgent object at 0x28ae96670>, <agent.HumanAgent object at 0x28ae966a0>, <agent.HumanAgent object at 0x28ae966d0>, <agent.HumanAgent object at 0x28ae96700>, <agent.HumanAgent object at 0x28ae96730>, <agent.HumanAgent object at 0x28ae96760>, <agent.HumanAgent object at 0x28ae96790>, <agent.HumanAgent object at 0x28ae967c0>, <agent.HumanAgent object at 0x28ae967f0>, <agent.HumanAgent object at 0x28ae96820>, <agent.HumanAgent object at 0x28ae96850>, <agent.HumanAgent object at 0x28ae96880>, <agent.HumanAgent object at 0x28ae968b0>, <agent.HumanAgent object at 0x28ae968e0>, <agent.HumanAgent object at 0x28ae96910>, <agent.HumanAgent object at 0x28ae96940>, <agent.HumanAgent object at 0x28ae96970>, <agent.HumanAgent object at 0x28ae969a0>, <agent.HumanAgent object at 0x28ae969d0>, <agent.HumanAgent object at 0x28ae96a00>, <agent.HumanAgent object at 0x28ae96a30>, <agent.HumanAgent object at 0x28ae96a60>, <agent.HumanAgent object at 0x28ae96a90>, <agent.HumanAgent object at 0x28ae96ac0>, <agent.HumanAgent object at 0x28ae96af0>, <agent.HumanAgent object at 0x28ae96b20>, <agent.HumanAgent object at 0x28ae96b50>, <agent.HumanAgent object at 0x28ae96b80>, <agent.HumanAgent object at 0x28ae96bb0>, <agent.HumanAgent object at 0x28ae96be0>, <agent.HumanAgent object at 0x28ae96c10>, <agent.HumanAgent object at 0x28ae96c40>, <agent.HumanAgent object at 0x28ae96c70>, <agent.HumanAgent object at 0x28ae96ca0>, <agent.HumanAgent object at 0x28ae96cd0>, <agent.HumanAgent object at 0x28ae96d00>, <agent.HumanAgent object at 0x28ae96d30>, <agent.HumanAgent object at 0x28ae96d60>, <agent.HumanAgent object at 0x28ae96d90>, <agent.HumanAgent object at 0x28ae96dc0>, <agent.HumanAgent object at 0x28ae96df0>, <agent.HumanAgent object at 0x28ae96e20>, <agent.HumanAgent object at 0x28ae96e50>, <agent.HumanAgent object at 0x28ae96e80>, <agent.HumanAgent object at 0x28ae96eb0>, <agent.HumanAgent object at 0x28ae96ee0>, <agent.HumanAgent object at 0x28ae96f10>, <agent.HumanAgent object at 0x28ae96f40>, <agent.HumanAgent object at 0x28ae96f70>, <agent.HumanAgent object at 0x28ae96fa0>, <agent.HumanAgent object at 0x28ae96fd0>, <agent.HumanAgent object at 0x28ae96220>, <agent.HumanAgent object at 0x28ae96100>, <agent.HumanAgent object at 0x28ae961f0>, <agent.HumanAgent object at 0x28ae96040>, <agent.HumanAgent object at 0x28ae96130>, <agent.HumanAgent object at 0x28ae96160>, <agent.HumanAgent object at 0x28ae960a0>, <agent.HumanAgent object at 0x28ae96070>, <agent.HumanAgent object at 0x28ae961c0>, <agent.HumanAgent object at 0x28ae6d190>, <agent.HumanAgent object at 0x28ae960d0>, <agent.HumanAgent object at 0x28aebf250>, <agent.HumanAgent object at 0x28aebf280>, <agent.HumanAgent object at 0x28aebf2b0>, <agent.HumanAgent object at 0x28aebf2e0>, <agent.HumanAgent object at 0x28aebf310>, <agent.HumanAgent object at 0x28aebf340>, <agent.HumanAgent object at 0x28aebf370>, <agent.HumanAgent object at 0x28aebf3a0>, <agent.HumanAgent object at 0x28aebf3d0>, <agent.HumanAgent object at 0x28aebf400>, <agent.HumanAgent object at 0x28aebf430>, <agent.HumanAgent object at 0x28aebf460>, <agent.HumanAgent object at 0x28aebf490>, <agent.HumanAgent object at 0x28aebf4c0>, <agent.HumanAgent object at 0x28aebf4f0>, <agent.HumanAgent object at 0x28aebf520>, <agent.HumanAgent object at 0x28aebf550>, <agent.HumanAgent object at 0x28aebf580>, <agent.HumanAgent object at 0x28aebf5b0>, <agent.HumanAgent object at 0x28aebf5e0>, <agent.HumanAgent object at 0x28aebf610>, <agent.HumanAgent object at 0x28aebf640>, <agent.HumanAgent object at 0x28aebf670>, <agent.HumanAgent object at 0x28aebf6a0>, <agent.HumanAgent object at 0x28aebf6d0>, <agent.HumanAgent object at 0x28aebf700>, <agent.HumanAgent object at 0x28aebf730>, <agent.HumanAgent object at 0x28aebf760>, <agent.HumanAgent object at 0x28aebf790>, <agent.HumanAgent object at 0x28aebf7c0>, <agent.HumanAgent object at 0x28aebf7f0>, <agent.HumanAgent object at 0x28aebf820>, <agent.HumanAgent object at 0x28aebf850>, <agent.HumanAgent object at 0x28aebf880>, <agent.HumanAgent object at 0x28aebf8b0>, <agent.HumanAgent object at 0x28aebf8e0>, <agent.HumanAgent object at 0x28aebf910>, <agent.HumanAgent object at 0x28aebf940>, <agent.HumanAgent object at 0x28aebf970>, <agent.HumanAgent object at 0x28aebf9a0>, <agent.HumanAgent object at 0x28aebf9d0>, <agent.HumanAgent object at 0x28aebfa00>, <agent.HumanAgent object at 0x28aebfa30>, <agent.HumanAgent object at 0x28aebfa60>, <agent.HumanAgent object at 0x28aebfa90>, <agent.HumanAgent object at 0x28aebfac0>, <agent.HumanAgent object at 0x28aebfaf0>, <agent.HumanAgent object at 0x28aebfb20>, <agent.HumanAgent object at 0x28aebfb50>, <agent.HumanAgent object at 0x28aebfb80>, <agent.HumanAgent object at 0x28aebfbb0>, <agent.HumanAgent object at 0x28aebfbe0>, <agent.HumanAgent object at 0x28aebfc10>, <agent.HumanAgent object at 0x28aebfc40>, <agent.HumanAgent object at 0x28aebfc70>, <agent.HumanAgent object at 0x28aebfca0>, <agent.HumanAgent object at 0x28aebfcd0>, <agent.HumanAgent object at 0x28aebfd00>, <agent.HumanAgent object at 0x28aebfd30>, <agent.HumanAgent object at 0x28aebfd60>, <agent.HumanAgent object at 0x28aebfd90>, <agent.HumanAgent object at 0x28aebfdc0>, <agent.HumanAgent object at 0x28aebfdf0>, <agent.HumanAgent object at 0x28aebfe20>, <agent.HumanAgent object at 0x28aebfe50>, <agent.HumanAgent object at 0x28aebfe80>, <agent.HumanAgent object at 0x28aebfeb0>, <agent.HumanAgent object at 0x28aebfee0>, <agent.HumanAgent object at 0x28aebff10>, <agent.HumanAgent object at 0x28aebff40>, <agent.HumanAgent object at 0x28aebff70>, <agent.HumanAgent object at 0x28aebffa0>, <agent.HumanAgent object at 0x28aebffd0>, <agent.HumanAgent object at 0x28aebf220>, <agent.HumanAgent object at 0x28aebf100>, <agent.HumanAgent object at 0x28aebf1f0>, <agent.HumanAgent object at 0x28aebf040>, <agent.HumanAgent object at 0x28aebf130>, <agent.HumanAgent object at 0x28aebf160>, <agent.HumanAgent object at 0x28aebf0a0>, <agent.HumanAgent object at 0x28aebf070>, <agent.HumanAgent object at 0x28aebf1c0>, <agent.HumanAgent object at 0x28ae96190>, <agent.HumanAgent object at 0x28aebf0d0>, <agent.HumanAgent object at 0x28aee6250>, <agent.HumanAgent object at 0x28aee6280>, <agent.HumanAgent object at 0x28aee62b0>, <agent.HumanAgent object at 0x28aee62e0>, <agent.HumanAgent object at 0x28aee6310>, <agent.HumanAgent object at 0x28aee6340>, <agent.HumanAgent object at 0x28aee6370>, <agent.HumanAgent object at 0x28aee63a0>, <agent.HumanAgent object at 0x28aee63d0>, <agent.HumanAgent object at 0x28aee6400>, <agent.HumanAgent object at 0x28aee6430>, <agent.HumanAgent object at 0x28aee6460>, <agent.HumanAgent object at 0x28aee6490>, <agent.HumanAgent object at 0x28aee64c0>, <agent.HumanAgent object at 0x28aee64f0>, <agent.HumanAgent object at 0x28aee6520>, <agent.HumanAgent object at 0x28aee6550>, <agent.HumanAgent object at 0x28aee6580>, <agent.HumanAgent object at 0x28aee65b0>, <agent.HumanAgent object at 0x28aee65e0>, <agent.HumanAgent object at 0x28aee6610>, <agent.HumanAgent object at 0x28aee6640>, <agent.HumanAgent object at 0x28aee6670>, <agent.HumanAgent object at 0x28aee66a0>, <agent.HumanAgent object at 0x28aee66d0>, <agent.HumanAgent object at 0x28aee6700>, <agent.HumanAgent object at 0x28aee6730>, <agent.HumanAgent object at 0x28aee6760>, <agent.HumanAgent object at 0x28aee6790>, <agent.HumanAgent object at 0x28aee67c0>, <agent.HumanAgent object at 0x28aee67f0>, <agent.HumanAgent object at 0x28aee6820>, <agent.HumanAgent object at 0x28aee6850>, <agent.HumanAgent object at 0x28aee6880>, <agent.HumanAgent object at 0x28aee68b0>, <agent.HumanAgent object at 0x28aee68e0>, <agent.HumanAgent object at 0x28aee6910>, <agent.HumanAgent object at 0x28aee6940>, <agent.HumanAgent object at 0x28aee6970>, <agent.HumanAgent object at 0x28aee69a0>, <agent.HumanAgent object at 0x28aee69d0>, <agent.HumanAgent object at 0x28aee6a00>, <agent.HumanAgent object at 0x28aee6a30>, <agent.HumanAgent object at 0x28aee6a60>, <agent.HumanAgent object at 0x28aee6a90>, <agent.HumanAgent object at 0x28aee6ac0>, <agent.HumanAgent object at 0x28aee6af0>, <agent.HumanAgent object at 0x28aee6b20>, <agent.HumanAgent object at 0x28aee6b50>, <agent.HumanAgent object at 0x28aee6b80>, <agent.HumanAgent object at 0x28aee6bb0>, <agent.HumanAgent object at 0x28aee6be0>, <agent.HumanAgent object at 0x28aee6c10>, <agent.HumanAgent object at 0x28aee6c40>, <agent.HumanAgent object at 0x28aee6c70>, <agent.HumanAgent object at 0x28aee6ca0>, <agent.HumanAgent object at 0x28aee6cd0>, <agent.HumanAgent object at 0x28aee6d00>, <agent.HumanAgent object at 0x28aee6d30>, <agent.HumanAgent object at 0x28aee6d60>, <agent.HumanAgent object at 0x28aee6d90>, <agent.HumanAgent object at 0x28aee6dc0>, <agent.HumanAgent object at 0x28aee6df0>, <agent.HumanAgent object at 0x28aee6e20>, <agent.HumanAgent object at 0x28aee6e50>, <agent.HumanAgent object at 0x28aee6e80>, <agent.HumanAgent object at 0x28aee6eb0>, <agent.HumanAgent object at 0x28aee6ee0>, <agent.HumanAgent object at 0x28aee6f10>, <agent.HumanAgent object at 0x28aee6f40>, <agent.HumanAgent object at 0x28aee6f70>, <agent.HumanAgent object at 0x28aee6fa0>, <agent.HumanAgent object at 0x28aee6fd0>, <agent.HumanAgent object at 0x28aee6220>, <agent.HumanAgent object at 0x28aee6100>, <agent.HumanAgent object at 0x28aee61f0>, <agent.HumanAgent object at 0x28aee6040>, <agent.HumanAgent object at 0x28aee6130>, <agent.HumanAgent object at 0x28aee6160>, <agent.HumanAgent object at 0x28aee60a0>, <agent.HumanAgent object at 0x28aee6070>, <agent.HumanAgent object at 0x28aee61c0>, <agent.HumanAgent object at 0x28aebf190>, <agent.HumanAgent object at 0x28aee60d0>, <agent.HumanAgent object at 0x28af0f250>, <agent.HumanAgent object at 0x28af0f280>, <agent.HumanAgent object at 0x28af0f2b0>, <agent.HumanAgent object at 0x28af0f2e0>, <agent.HumanAgent object at 0x28af0f310>, <agent.HumanAgent object at 0x28af0f340>, <agent.HumanAgent object at 0x28af0f370>, <agent.HumanAgent object at 0x28af0f3a0>, <agent.HumanAgent object at 0x28af0f3d0>, <agent.HumanAgent object at 0x28af0f400>, <agent.HumanAgent object at 0x28af0f430>, <agent.HumanAgent object at 0x28af0f460>, <agent.HumanAgent object at 0x28af0f490>, <agent.HumanAgent object at 0x28af0f4c0>, <agent.HumanAgent object at 0x28af0f4f0>, <agent.HumanAgent object at 0x28af0f520>, <agent.HumanAgent object at 0x28af0f550>, <agent.HumanAgent object at 0x28af0f580>, <agent.HumanAgent object at 0x28af0f5b0>, <agent.HumanAgent object at 0x28af0f5e0>, <agent.HumanAgent object at 0x28af0f610>, <agent.HumanAgent object at 0x28af0f640>, <agent.HumanAgent object at 0x28af0f670>, <agent.HumanAgent object at 0x28af0f6a0>, <agent.HumanAgent object at 0x28af0f6d0>, <agent.HumanAgent object at 0x28af0f700>, <agent.HumanAgent object at 0x28af0f730>, <agent.HumanAgent object at 0x28af0f760>, <agent.HumanAgent object at 0x28af0f790>, <agent.HumanAgent object at 0x28af0f7c0>, <agent.HumanAgent object at 0x28af0f7f0>, <agent.HumanAgent object at 0x28af0f820>, <agent.HumanAgent object at 0x28af0f850>, <agent.HumanAgent object at 0x28af0f880>, <agent.HumanAgent object at 0x28af0f8b0>, <agent.HumanAgent object at 0x28af0f8e0>, <agent.HumanAgent object at 0x28af0f910>, <agent.HumanAgent object at 0x28af0f940>, <agent.HumanAgent object at 0x28af0f970>, <agent.HumanAgent object at 0x28af0f9a0>, <agent.HumanAgent object at 0x28af0f9d0>, <agent.HumanAgent object at 0x28af0fa00>, <agent.HumanAgent object at 0x28af0fa30>, <agent.HumanAgent object at 0x28af0fa60>, <agent.HumanAgent object at 0x28af0fa90>, <agent.HumanAgent object at 0x28af0fac0>, <agent.HumanAgent object at 0x28af0faf0>, <agent.HumanAgent object at 0x28af0fb20>, <agent.HumanAgent object at 0x28af0fb50>, <agent.HumanAgent object at 0x28af0fb80>, <agent.HumanAgent object at 0x28af0fbb0>, <agent.HumanAgent object at 0x28af0fbe0>, <agent.HumanAgent object at 0x28af0fc10>, <agent.HumanAgent object at 0x28af0fc40>, <agent.HumanAgent object at 0x28af0fc70>, <agent.HumanAgent object at 0x28af0fca0>, <agent.HumanAgent object at 0x28af0fcd0>, <agent.HumanAgent object at 0x28af0fd00>, <agent.HumanAgent object at 0x28af0fd30>, <agent.HumanAgent object at 0x28af0fd60>, <agent.HumanAgent object at 0x28af0fd90>, <agent.HumanAgent object at 0x28af0fdc0>, <agent.HumanAgent object at 0x28af0fdf0>, <agent.HumanAgent object at 0x28af0fe20>, <agent.HumanAgent object at 0x28af0fe80>, <agent.HumanAgent object at 0x28af0feb0>, <agent.HumanAgent object at 0x28af0fee0>, <agent.HumanAgent object at 0x28af0ff40>, <agent.HumanAgent object at 0x28af0ff70>, <agent.HumanAgent object at 0x28af0ffd0>, <agent.HumanAgent object at 0x28af0f070>, <agent.HumanAgent object at 0x28af0ff10>, <agent.HumanAgent object at 0x28af0f1f0>, <agent.HumanAgent object at 0x28af0f1c0>, <agent.HumanAgent object at 0x28af0f100>, <agent.HumanAgent object at 0x28af0f160>, <agent.HumanAgent object at 0x28af0ffa0>, <agent.HumanAgent object at 0x28aee6190>, <agent.HumanAgent object at 0x28af0fe50>, <agent.HumanAgent object at 0x28af0f190>, <agent.HumanAgent object at 0x28af37280>] \n",
      "\n",
      "Number of human agents is:  1000 \n",
      "\n",
      "Number of machine agents (autonomous vehicles) is:  0 \n",
      "\n"
     ]
    }
   ],
   "source": [
    "print(\"Number of total agents is: \", len(env.all_agents), \"\\n\")\n",
    "print(\"Agents are: \", env.all_agents, \"\\n\")\n",
    "print(\"Number of human agents is: \", len(env.human_agents), \"\\n\")\n",
    "print(\"Number of machine agents (autonomous vehicles) is: \", len(env.machine_agents), \"\\n\")"
   ]
  },
  {
   "cell_type": "markdown",
   "metadata": {},
   "source": [
    "#### Human learning"
   ]
  },
  {
   "cell_type": "code",
   "execution_count": 6,
   "metadata": {},
   "outputs": [
    {
     "name": "stdout",
     "output_type": "stream",
     "text": [
      " Retrying in 1 seconds\n"
     ]
    },
    {
     "name": "stderr",
     "output_type": "stream",
     "text": [
      "Warning: Could not set locale to 'C'.\n",
      "Warning: Environment variable SUMO_HOME is not set properly, disabling XML validation. Set 'auto' or 'always' for web lookups.\n",
      "Warning: Could not set locale to 'C'.\n"
     ]
    },
    {
     "name": "stdout",
     "output_type": "stream",
     "text": [
      "1 {}\n",
      "2 {}\n"
     ]
    },
    {
     "name": "stderr",
     "output_type": "stream",
     "text": [
      "Warning: Could not set locale to 'C'.\n"
     ]
    },
    {
     "ename": "KeyboardInterrupt",
     "evalue": "",
     "output_type": "error",
     "traceback": [
      "\u001b[0;31m---------------------------------------------------------------------------\u001b[0m",
      "\u001b[0;31mKeyboardInterrupt\u001b[0m                         Traceback (most recent call last)",
      "Cell \u001b[0;32mIn[6], line 7\u001b[0m\n\u001b[1;32m      3\u001b[0m env\u001b[38;5;241m.\u001b[39mstart()\n\u001b[1;32m      5\u001b[0m \u001b[38;5;28;01mfor\u001b[39;00m episode \u001b[38;5;129;01min\u001b[39;00m \u001b[38;5;28mrange\u001b[39m(num_episodes):\n\u001b[0;32m----> 7\u001b[0m     \u001b[43menv\u001b[49m\u001b[38;5;241;43m.\u001b[39;49m\u001b[43mstep\u001b[49m\u001b[43m(\u001b[49m\u001b[43m)\u001b[49m\n\u001b[1;32m      8\u001b[0m     \u001b[38;5;28mprint\u001b[39m(\u001b[38;5;124m\"\u001b[39m\u001b[38;5;124m1\u001b[39m\u001b[38;5;124m\"\u001b[39m, env\u001b[38;5;241m.\u001b[39msimulator\u001b[38;5;241m.\u001b[39mdet_dict)\n\u001b[1;32m      9\u001b[0m     URZ_help \u001b[38;5;241m=\u001b[39m URZ\u001b[38;5;241m.\u001b[39mUtilities(env,RoutingZoo,episode,\u001b[38;5;241m*\u001b[39m\u001b[38;5;241m*\u001b[39mkwargs)\n",
      "File \u001b[0;32m~/Documents/RouteRL/RouteRL/environment/environment.py:264\u001b[0m, in \u001b[0;36mTrafficEnvironment.step\u001b[0;34m(self, machine_action)\u001b[0m\n\u001b[1;32m    260\u001b[0m     \u001b[38;5;28mself\u001b[39m\u001b[38;5;241m.\u001b[39m_accumulate_rewards()\n\u001b[1;32m    262\u001b[0m \u001b[38;5;66;03m# If there are only humans in the system\u001b[39;00m\n\u001b[1;32m    263\u001b[0m \u001b[38;5;28;01melse\u001b[39;00m:\n\u001b[0;32m--> 264\u001b[0m     \u001b[38;5;28;43mself\u001b[39;49m\u001b[38;5;241;43m.\u001b[39;49m\u001b[43msimulation_loop\u001b[49m\u001b[43m(\u001b[49m\u001b[43mmachine_action\u001b[49m\u001b[38;5;241;43m=\u001b[39;49m\u001b[38;5;241;43m0\u001b[39;49m\u001b[43m,\u001b[49m\u001b[43m \u001b[49m\u001b[43mmachine_id\u001b[49m\u001b[38;5;241;43m=\u001b[39;49m\u001b[38;5;241;43m0\u001b[39;49m\u001b[43m)\u001b[49m\n\u001b[1;32m    266\u001b[0m     \u001b[38;5;28mself\u001b[39m\u001b[38;5;241m.\u001b[39mday \u001b[38;5;241m=\u001b[39m \u001b[38;5;28mself\u001b[39m\u001b[38;5;241m.\u001b[39mday \u001b[38;5;241m+\u001b[39m \u001b[38;5;241m1\u001b[39m\n\u001b[1;32m    268\u001b[0m     \u001b[38;5;28mself\u001b[39m\u001b[38;5;241m.\u001b[39m_assign_rewards()\n",
      "File \u001b[0;32m~/Documents/RouteRL/RouteRL/environment/environment.py:525\u001b[0m, in \u001b[0;36mTrafficEnvironment.simulation_loop\u001b[0;34m(self, machine_action, machine_id)\u001b[0m\n\u001b[1;32m    523\u001b[0m \u001b[38;5;66;03m# If all machines that have start time as the simulator timestep acted\u001b[39;00m\n\u001b[1;32m    524\u001b[0m \u001b[38;5;28;01mif\u001b[39;00m \u001b[38;5;129;01mnot\u001b[39;00m \u001b[38;5;28mself\u001b[39m\u001b[38;5;241m.\u001b[39mmachine_same_start_time: \n\u001b[0;32m--> 525\u001b[0m     travel_times \u001b[38;5;241m=\u001b[39m \u001b[38;5;28;43mself\u001b[39;49m\u001b[38;5;241;43m.\u001b[39;49m\u001b[43mhelp_step\u001b[49m\u001b[43m(\u001b[49m\u001b[38;5;28;43mself\u001b[39;49m\u001b[38;5;241;43m.\u001b[39;49m\u001b[43mactions_timestep\u001b[49m\u001b[43m)\u001b[49m\n\u001b[1;32m    527\u001b[0m     \u001b[38;5;28;01mfor\u001b[39;00m agent_dict \u001b[38;5;129;01min\u001b[39;00m travel_times:\n\u001b[1;32m    528\u001b[0m         \u001b[38;5;28mself\u001b[39m\u001b[38;5;241m.\u001b[39mtravel_times_list\u001b[38;5;241m.\u001b[39mappend(agent_dict)\n",
      "File \u001b[0;32m~/Documents/RouteRL/RouteRL/environment/environment.py:381\u001b[0m, in \u001b[0;36mTrafficEnvironment.help_step\u001b[0;34m(self, actions)\u001b[0m\n\u001b[1;32m    379\u001b[0m     \u001b[38;5;28mself\u001b[39m\u001b[38;5;241m.\u001b[39msimulator\u001b[38;5;241m.\u001b[39madd_vehice(action_dict)\n\u001b[1;32m    380\u001b[0m     \u001b[38;5;28mself\u001b[39m\u001b[38;5;241m.\u001b[39mepisode_actions[agent\u001b[38;5;241m.\u001b[39mid] \u001b[38;5;241m=\u001b[39m action_dict\n\u001b[0;32m--> 381\u001b[0m timestep, arrivals, \u001b[38;5;28mself\u001b[39m\u001b[38;5;241m.\u001b[39mdet_dict \u001b[38;5;241m=\u001b[39m \u001b[38;5;28;43mself\u001b[39;49m\u001b[38;5;241;43m.\u001b[39;49m\u001b[43msimulator\u001b[49m\u001b[38;5;241;43m.\u001b[39;49m\u001b[43mstep\u001b[49m\u001b[43m(\u001b[49m\u001b[43m)\u001b[49m  \n\u001b[1;32m    383\u001b[0m travel_times \u001b[38;5;241m=\u001b[39m \u001b[38;5;28mdict\u001b[39m()\n\u001b[1;32m    384\u001b[0m \u001b[38;5;28;01mfor\u001b[39;00m veh_id \u001b[38;5;129;01min\u001b[39;00m arrivals:\n",
      "File \u001b[0;32m~/Documents/RouteRL/RouteRL/environment/simulator.py:137\u001b[0m, in \u001b[0;36mSumoSimulator.step\u001b[0;34m(self)\u001b[0m\n\u001b[1;32m    126\u001b[0m \u001b[38;5;250m\u001b[39m\u001b[38;5;124;03m\"\"\"\u001b[39;00m\n\u001b[1;32m    127\u001b[0m \u001b[38;5;124;03mAdvances the SUMO simulation by one timestep and retrieves information about vehicle arrivals and detector data.\u001b[39;00m\n\u001b[1;32m    128\u001b[0m \n\u001b[0;32m   (...)\u001b[0m\n\u001b[1;32m    133\u001b[0m \u001b[38;5;124;03m        self.det_dict (list): The current detector data (currently an empty list).    \u001b[39;00m\n\u001b[1;32m    134\u001b[0m \u001b[38;5;124;03m\"\"\"\u001b[39;00m\n\u001b[1;32m    136\u001b[0m arrivals \u001b[38;5;241m=\u001b[39m \u001b[38;5;28mself\u001b[39m\u001b[38;5;241m.\u001b[39msumo_connection\u001b[38;5;241m.\u001b[39msimulation\u001b[38;5;241m.\u001b[39mgetArrivedIDList()\n\u001b[0;32m--> 137\u001b[0m \u001b[38;5;28;43mself\u001b[39;49m\u001b[38;5;241;43m.\u001b[39;49m\u001b[43msumo_connection\u001b[49m\u001b[38;5;241;43m.\u001b[39;49m\u001b[43msimulationStep\u001b[49m\u001b[43m(\u001b[49m\u001b[43m)\u001b[49m\n\u001b[1;32m    138\u001b[0m \u001b[38;5;28mself\u001b[39m\u001b[38;5;241m.\u001b[39mtimestep \u001b[38;5;241m+\u001b[39m\u001b[38;5;241m=\u001b[39m \u001b[38;5;241m1\u001b[39m\n\u001b[1;32m    140\u001b[0m \u001b[38;5;66;03m#### Detectors\u001b[39;00m\n\u001b[1;32m    141\u001b[0m \u001b[38;5;66;03m#for id, name in enumerate(self.detectors_name):\u001b[39;00m\n\u001b[1;32m    142\u001b[0m     \n\u001b[1;32m    143\u001b[0m     \u001b[38;5;66;03m#link = self.sumo_connection.inductionloop.getIntervalVehicleNumber(f\"{name}_det\")\u001b[39;00m\n\u001b[1;32m    144\u001b[0m     \u001b[38;5;66;03m#self.det_dict[name] = ((link / self.timestep) * 3600) # 1hour\u001b[39;00m\n\u001b[1;32m    145\u001b[0m \u001b[38;5;66;03m#self.det_dict = []\u001b[39;00m\n",
      "File \u001b[0;32m/Library/Frameworks/Python.framework/Versions/3.9/lib/python3.9/site-packages/traci/connection.py:368\u001b[0m, in \u001b[0;36mConnection.simulationStep\u001b[0;34m(self, step)\u001b[0m\n\u001b[1;32m    366\u001b[0m \u001b[38;5;28;01mif\u001b[39;00m \u001b[38;5;28mtype\u001b[39m(step) \u001b[38;5;129;01mis\u001b[39;00m \u001b[38;5;28mint\u001b[39m \u001b[38;5;129;01mand\u001b[39;00m step \u001b[38;5;241m>\u001b[39m\u001b[38;5;241m=\u001b[39m \u001b[38;5;241m1000\u001b[39m:\n\u001b[1;32m    367\u001b[0m     warnings\u001b[38;5;241m.\u001b[39mwarn(\u001b[38;5;124m\"\u001b[39m\u001b[38;5;124mAPI change now handles step as floating point seconds\u001b[39m\u001b[38;5;124m\"\u001b[39m, stacklevel\u001b[38;5;241m=\u001b[39m\u001b[38;5;241m2\u001b[39m)\n\u001b[0;32m--> 368\u001b[0m result \u001b[38;5;241m=\u001b[39m \u001b[38;5;28;43mself\u001b[39;49m\u001b[38;5;241;43m.\u001b[39;49m\u001b[43m_sendCmd\u001b[49m\u001b[43m(\u001b[49m\u001b[43mtc\u001b[49m\u001b[38;5;241;43m.\u001b[39;49m\u001b[43mCMD_SIMSTEP\u001b[49m\u001b[43m,\u001b[49m\u001b[43m \u001b[49m\u001b[38;5;28;43;01mNone\u001b[39;49;00m\u001b[43m,\u001b[49m\u001b[43m \u001b[49m\u001b[38;5;28;43;01mNone\u001b[39;49;00m\u001b[43m,\u001b[49m\u001b[43m \u001b[49m\u001b[38;5;124;43m\"\u001b[39;49m\u001b[38;5;124;43mD\u001b[39;49m\u001b[38;5;124;43m\"\u001b[39;49m\u001b[43m,\u001b[49m\u001b[43m \u001b[49m\u001b[43mstep\u001b[49m\u001b[43m)\u001b[49m\n\u001b[1;32m    369\u001b[0m \u001b[38;5;28;01mfor\u001b[39;00m subscriptionResults \u001b[38;5;129;01min\u001b[39;00m \u001b[38;5;28mself\u001b[39m\u001b[38;5;241m.\u001b[39m_subscriptionMapping\u001b[38;5;241m.\u001b[39mvalues():\n\u001b[1;32m    370\u001b[0m     subscriptionResults\u001b[38;5;241m.\u001b[39mreset()\n",
      "File \u001b[0;32m/Library/Frameworks/Python.framework/Versions/3.9/lib/python3.9/site-packages/traci/connection.py:231\u001b[0m, in \u001b[0;36mConnection._sendCmd\u001b[0;34m(self, cmdID, varID, objID, format, *values)\u001b[0m\n\u001b[1;32m    229\u001b[0m     \u001b[38;5;28mself\u001b[39m\u001b[38;5;241m.\u001b[39m_string \u001b[38;5;241m+\u001b[39m\u001b[38;5;241m=\u001b[39m struct\u001b[38;5;241m.\u001b[39mpack(\u001b[38;5;124m\"\u001b[39m\u001b[38;5;124m!i\u001b[39m\u001b[38;5;124m\"\u001b[39m, \u001b[38;5;28mlen\u001b[39m(objID)) \u001b[38;5;241m+\u001b[39m objID\n\u001b[1;32m    230\u001b[0m \u001b[38;5;28mself\u001b[39m\u001b[38;5;241m.\u001b[39m_string \u001b[38;5;241m+\u001b[39m\u001b[38;5;241m=\u001b[39m packed\n\u001b[0;32m--> 231\u001b[0m \u001b[38;5;28;01mreturn\u001b[39;00m \u001b[38;5;28;43mself\u001b[39;49m\u001b[38;5;241;43m.\u001b[39;49m\u001b[43m_sendExact\u001b[49m\u001b[43m(\u001b[49m\u001b[43m)\u001b[49m\n",
      "File \u001b[0;32m/Library/Frameworks/Python.framework/Versions/3.9/lib/python3.9/site-packages/traci/connection.py:131\u001b[0m, in \u001b[0;36mConnection._sendExact\u001b[0;34m(self)\u001b[0m\n\u001b[1;32m    129\u001b[0m     \u001b[38;5;28mprint\u001b[39m(\u001b[38;5;124m\"\u001b[39m\u001b[38;5;124msending\u001b[39m\u001b[38;5;124m\"\u001b[39m, Storage(length \u001b[38;5;241m+\u001b[39m \u001b[38;5;28mself\u001b[39m\u001b[38;5;241m.\u001b[39m_string)\u001b[38;5;241m.\u001b[39mgetDebugString())\n\u001b[1;32m    130\u001b[0m \u001b[38;5;28mself\u001b[39m\u001b[38;5;241m.\u001b[39m_socket\u001b[38;5;241m.\u001b[39msend(length \u001b[38;5;241m+\u001b[39m \u001b[38;5;28mself\u001b[39m\u001b[38;5;241m.\u001b[39m_string)\n\u001b[0;32m--> 131\u001b[0m result \u001b[38;5;241m=\u001b[39m \u001b[38;5;28;43mself\u001b[39;49m\u001b[38;5;241;43m.\u001b[39;49m\u001b[43m_recvExact\u001b[49m\u001b[43m(\u001b[49m\u001b[43m)\u001b[49m\n\u001b[1;32m    132\u001b[0m \u001b[38;5;28;01mif\u001b[39;00m _DEBUG:\n\u001b[1;32m    133\u001b[0m     \u001b[38;5;28mprint\u001b[39m(\u001b[38;5;124m\"\u001b[39m\u001b[38;5;124mreceiving\u001b[39m\u001b[38;5;124m\"\u001b[39m, result\u001b[38;5;241m.\u001b[39mgetDebugString())\n",
      "File \u001b[0;32m/Library/Frameworks/Python.framework/Versions/3.9/lib/python3.9/site-packages/traci/connection.py:109\u001b[0m, in \u001b[0;36mConnection._recvExact\u001b[0;34m(self)\u001b[0m\n\u001b[1;32m    107\u001b[0m result \u001b[38;5;241m=\u001b[39m \u001b[38;5;28mbytes\u001b[39m()\n\u001b[1;32m    108\u001b[0m \u001b[38;5;28;01mwhile\u001b[39;00m \u001b[38;5;28mlen\u001b[39m(result) \u001b[38;5;241m<\u001b[39m \u001b[38;5;241m4\u001b[39m:\n\u001b[0;32m--> 109\u001b[0m     t \u001b[38;5;241m=\u001b[39m \u001b[38;5;28;43mself\u001b[39;49m\u001b[38;5;241;43m.\u001b[39;49m\u001b[43m_socket\u001b[49m\u001b[38;5;241;43m.\u001b[39;49m\u001b[43mrecv\u001b[49m\u001b[43m(\u001b[49m\u001b[38;5;241;43m4\u001b[39;49m\u001b[43m \u001b[49m\u001b[38;5;241;43m-\u001b[39;49m\u001b[43m \u001b[49m\u001b[38;5;28;43mlen\u001b[39;49m\u001b[43m(\u001b[49m\u001b[43mresult\u001b[49m\u001b[43m)\u001b[49m\u001b[43m)\u001b[49m\n\u001b[1;32m    110\u001b[0m     \u001b[38;5;28;01mif\u001b[39;00m \u001b[38;5;129;01mnot\u001b[39;00m t:\n\u001b[1;32m    111\u001b[0m         \u001b[38;5;28;01mreturn\u001b[39;00m \u001b[38;5;28;01mNone\u001b[39;00m\n",
      "\u001b[0;31mKeyboardInterrupt\u001b[0m: "
     ]
    }
   ],
   "source": [
    "num_episodes =  3\n",
    "\n",
    "env.start()\n",
    "\n",
    "for episode in range(num_episodes):\n",
    "    \n",
    "    env.step()\n",
    "    print(\"1\", env.simulator.det_dict)\n",
    "    URZ_help = URZ.Utilities(env, RoutingZoo, episode, **kwargs)\n",
    "\n",
    "    URZ_help.data()\n",
    "    print(\"2\", env.simulator.det_dict)\n",
    "\n",
    "    URZ_help.Replace_data()\n",
    "    env.reset()\n",
    "\n",
    "env.close()"
   ]
  },
  {
   "cell_type": "code",
   "execution_count": 7,
   "metadata": {},
   "outputs": [
    {
     "name": "stdout",
     "output_type": "stream",
     "text": [
      "Run was succesful\n"
     ]
    },
    {
     "data": {
      "text/html": [
       "<div>\n",
       "<style scoped>\n",
       "    .dataframe tbody tr th:only-of-type {\n",
       "        vertical-align: middle;\n",
       "    }\n",
       "\n",
       "    .dataframe tbody tr th {\n",
       "        vertical-align: top;\n",
       "    }\n",
       "\n",
       "    .dataframe thead th {\n",
       "        text-align: right;\n",
       "    }\n",
       "</style>\n",
       "<table border=\"1\" class=\"dataframe\">\n",
       "  <thead>\n",
       "    <tr style=\"text-align: right;\">\n",
       "      <th></th>\n",
       "      <th>network</th>\n",
       "      <th>model</th>\n",
       "      <th>demand</th>\n",
       "      <th>Bounded</th>\n",
       "      <th>Greedy</th>\n",
       "      <th>link_value</th>\n",
       "      <th>link_std</th>\n",
       "      <th>TT_value</th>\n",
       "      <th>TT_std</th>\n",
       "      <th>entropy_value</th>\n",
       "      <th>entropy_std</th>\n",
       "    </tr>\n",
       "  </thead>\n",
       "  <tbody>\n",
       "    <tr>\n",
       "      <th>0</th>\n",
       "      <td>grid</td>\n",
       "      <td>markow</td>\n",
       "      <td>1000</td>\n",
       "      <td>0.2</td>\n",
       "      <td>0</td>\n",
       "      <td>36.0</td>\n",
       "      <td>11.21</td>\n",
       "      <td>62985.0</td>\n",
       "      <td>4384.28</td>\n",
       "      <td>0.27</td>\n",
       "      <td>0.41</td>\n",
       "    </tr>\n",
       "  </tbody>\n",
       "</table>\n",
       "</div>"
      ],
      "text/plain": [
       "  network   model demand Bounded Greedy  link_value  link_std  TT_value  \\\n",
       "0    grid  markow   1000     0.2      0        36.0     11.21   62985.0   \n",
       "\n",
       "    TT_std  entropy_value  entropy_std  \n",
       "0  4384.28           0.27         0.41  "
      ]
     },
     "execution_count": 7,
     "metadata": {},
     "output_type": "execute_result"
    }
   ],
   "source": [
    "program = da.Table_record_creator(num_episodes,URZ_help.model,50,3)\n",
    "program.table_record()"
   ]
  },
  {
   "cell_type": "code",
   "execution_count": 7,
   "metadata": {},
   "outputs": [
    {
     "name": "stdout",
     "output_type": "stream",
     "text": [
      "Run was succesful\n"
     ]
    },
    {
     "data": {
      "text/html": [
       "<div>\n",
       "<style scoped>\n",
       "    .dataframe tbody tr th:only-of-type {\n",
       "        vertical-align: middle;\n",
       "    }\n",
       "\n",
       "    .dataframe tbody tr th {\n",
       "        vertical-align: top;\n",
       "    }\n",
       "\n",
       "    .dataframe thead th {\n",
       "        text-align: right;\n",
       "    }\n",
       "</style>\n",
       "<table border=\"1\" class=\"dataframe\">\n",
       "  <thead>\n",
       "    <tr style=\"text-align: right;\">\n",
       "      <th></th>\n",
       "      <th>network</th>\n",
       "      <th>model</th>\n",
       "      <th>demand</th>\n",
       "      <th>Bounded</th>\n",
       "      <th>Greedy</th>\n",
       "      <th>link_value</th>\n",
       "      <th>link_std</th>\n",
       "      <th>TT_value</th>\n",
       "      <th>TT_std</th>\n",
       "      <th>entropy_value</th>\n",
       "      <th>entropy_std</th>\n",
       "    </tr>\n",
       "  </thead>\n",
       "  <tbody>\n",
       "    <tr>\n",
       "      <th>0</th>\n",
       "      <td>grid2</td>\n",
       "      <td>markow</td>\n",
       "      <td>1000</td>\n",
       "      <td>0.2</td>\n",
       "      <td>0.3</td>\n",
       "      <td>28.0</td>\n",
       "      <td>10.58</td>\n",
       "      <td>62684.0</td>\n",
       "      <td>4444.18</td>\n",
       "      <td>0.73</td>\n",
       "      <td>0.2</td>\n",
       "    </tr>\n",
       "  </tbody>\n",
       "</table>\n",
       "</div>"
      ],
      "text/plain": [
       "  network   model demand Bounded Greedy  link_value  link_std  TT_value  \\\n",
       "0   grid2  markow   1000     0.2    0.3        28.0     10.58   62684.0   \n",
       "\n",
       "    TT_std  entropy_value  entropy_std  \n",
       "0  4444.18           0.73          0.2  "
      ]
     },
     "execution_count": 7,
     "metadata": {},
     "output_type": "execute_result"
    }
   ],
   "source": [
    "program = da.Table_record_creator(num_episodes,URZ_help.model,50,3)\n",
    "program.table_record()"
   ]
  },
  {
   "cell_type": "code",
   "execution_count": 7,
   "metadata": {},
   "outputs": [
    {
     "name": "stdout",
     "output_type": "stream",
     "text": [
      "Run was succesful\n"
     ]
    },
    {
     "data": {
      "text/html": [
       "<div>\n",
       "<style scoped>\n",
       "    .dataframe tbody tr th:only-of-type {\n",
       "        vertical-align: middle;\n",
       "    }\n",
       "\n",
       "    .dataframe tbody tr th {\n",
       "        vertical-align: top;\n",
       "    }\n",
       "\n",
       "    .dataframe thead th {\n",
       "        text-align: right;\n",
       "    }\n",
       "</style>\n",
       "<table border=\"1\" class=\"dataframe\">\n",
       "  <thead>\n",
       "    <tr style=\"text-align: right;\">\n",
       "      <th></th>\n",
       "      <th>network</th>\n",
       "      <th>model</th>\n",
       "      <th>demand</th>\n",
       "      <th>Bounded</th>\n",
       "      <th>Greedy</th>\n",
       "      <th>5_x</th>\n",
       "      <th>link_value</th>\n",
       "      <th>link_std</th>\n",
       "      <th>5_y</th>\n",
       "      <th>TT_value</th>\n",
       "      <th>TT_std</th>\n",
       "      <th>5</th>\n",
       "      <th>entropy_value</th>\n",
       "      <th>entropy_std</th>\n",
       "    </tr>\n",
       "  </thead>\n",
       "  <tbody>\n",
       "    <tr>\n",
       "      <th>0</th>\n",
       "      <td>grid</td>\n",
       "      <td>1</td>\n",
       "      <td>markow</td>\n",
       "      <td>1000</td>\n",
       "      <td>0.2</td>\n",
       "      <td>0.3</td>\n",
       "      <td>28.0</td>\n",
       "      <td>10.58</td>\n",
       "      <td>0.3</td>\n",
       "      <td>62684.0</td>\n",
       "      <td>4444.18</td>\n",
       "      <td>0.3</td>\n",
       "      <td>0.73</td>\n",
       "      <td>0.2</td>\n",
       "    </tr>\n",
       "  </tbody>\n",
       "</table>\n",
       "</div>"
      ],
      "text/plain": [
       "  network model  demand Bounded Greedy  5_x  link_value  link_std  5_y  \\\n",
       "0    grid     1  markow    1000    0.2  0.3        28.0     10.58  0.3   \n",
       "\n",
       "   TT_value   TT_std    5  entropy_value  entropy_std  \n",
       "0   62684.0  4444.18  0.3           0.73          0.2  "
      ]
     },
     "execution_count": 7,
     "metadata": {},
     "output_type": "execute_result"
    }
   ],
   "source": [
    "program = da.Table_record_creator(num_episodes,URZ_help.model,50,3)\n",
    "program.table_record()"
   ]
  },
  {
   "cell_type": "code",
   "execution_count": 8,
   "metadata": {},
   "outputs": [
    {
     "name": "stderr",
     "output_type": "stream",
     "text": [
      "Warning: Could not set locale to 'C'.\n"
     ]
    },
    {
     "name": "stdout",
     "output_type": "stream",
     "text": [
      "Run was succesful\n"
     ]
    },
    {
     "data": {
      "text/html": [
       "<div>\n",
       "<style scoped>\n",
       "    .dataframe tbody tr th:only-of-type {\n",
       "        vertical-align: middle;\n",
       "    }\n",
       "\n",
       "    .dataframe tbody tr th {\n",
       "        vertical-align: top;\n",
       "    }\n",
       "\n",
       "    .dataframe thead th {\n",
       "        text-align: right;\n",
       "    }\n",
       "</style>\n",
       "<table border=\"1\" class=\"dataframe\">\n",
       "  <thead>\n",
       "    <tr style=\"text-align: right;\">\n",
       "      <th></th>\n",
       "      <th>network</th>\n",
       "      <th>model</th>\n",
       "      <th>demand</th>\n",
       "      <th>Bounded</th>\n",
       "      <th>Greedy</th>\n",
       "      <th>link_value</th>\n",
       "      <th>link_std</th>\n",
       "      <th>TT_value</th>\n",
       "      <th>TT_std</th>\n",
       "      <th>entropy_value</th>\n",
       "      <th>entropy_std</th>\n",
       "    </tr>\n",
       "  </thead>\n",
       "  <tbody>\n",
       "    <tr>\n",
       "      <th>0</th>\n",
       "      <td>grid</td>\n",
       "      <td>markow</td>\n",
       "      <td>1000</td>\n",
       "      <td>0.2</td>\n",
       "      <td>0.3</td>\n",
       "      <td>11.0</td>\n",
       "      <td>4.1</td>\n",
       "      <td>62684.0</td>\n",
       "      <td>4444.18</td>\n",
       "      <td>0.73</td>\n",
       "      <td>0.2</td>\n",
       "    </tr>\n",
       "  </tbody>\n",
       "</table>\n",
       "</div>"
      ],
      "text/plain": [
       "  network   model demand Bounded Greedy  link_value  link_std  TT_value  \\\n",
       "0    grid  markow   1000     0.2    0.3        11.0       4.1   62684.0   \n",
       "\n",
       "    TT_std  entropy_value  entropy_std  \n",
       "0  4444.18           0.73          0.2  "
      ]
     },
     "execution_count": 8,
     "metadata": {},
     "output_type": "execute_result"
    }
   ],
   "source": [
    "program = da.Table_record_creator(num_episodes,URZ_help.model,50,3)\n",
    "program.table_record()"
   ]
  },
  {
   "cell_type": "code",
   "execution_count": null,
   "metadata": {},
   "outputs": [],
   "source": [
    "    def act(self, state):\n",
    "\n",
    "        self.make_noise()\n",
    "\n",
    "        utilities = list(map(lambda x,y: ((self.beta * x) + y), self.cost,self.stored_noises)) #RK: here to do: self.noise[k]\n",
    "\n",
    "        if abs(self.old_c_hat[-2] - self.old_c_hat[-1]) > self.gamma_u:\n",
    "\n",
    "            p = np.random.random()\n",
    "\n",
    "            if p < self.greedy:\n",
    "\n",
    "                action = np.random.randint(low=0,high=self.action_space) #RK: First bounded rationality, then greedy.\n",
    "\n",
    "            else:\n",
    "\n",
    "                action = np.argmin(utilities)\n",
    "                self.stored_utilities = utilities\n",
    "        \n",
    "        else:\n",
    "\n",
    "            action = np.argmin(self.stored_utilities)\n",
    "\n",
    "\n",
    "        return action       \n",
    "\n",
    "\n",
    "    def learn(self, action, observation):\n",
    "\n",
    "        reward = self.get_reward(observation)\n",
    "        self.last_reward = reward\n",
    "\n",
    "        if abs(self.old_c_hat[-1]-reward) > self.gamma_c:\n",
    "\n",
    "            if self.type == 'weight':\n",
    "                c_hat = 0\n",
    "                if self.cost[action] != reward: #RK: This is quite dangerous assumption. you beeter check this condition somehow else (what if the costs are the same on two paths?)\n",
    "                    del(self.days[action][len(self.days[action])-1]) #RK: I would try to data structure called queue here https://docs.python.org/3/library/queue.html\n",
    "                    self.days[action].insert(0,self.cost[action])\n",
    "                for memory in range(self.remember): #memory\n",
    "\n",
    "                    c_hat += self.alpha_j[memory] * self.days[action][memory]\n",
    "\n",
    "            else:\n",
    "\n",
    "                    c_hat = self.alpha_zero * self.cost[action] + self.alpha_j * reward\n",
    "\n",
    "            self.cost[action] = c_hat\n",
    "            self.old_c_hat.append(c_hat)"
   ]
  }
 ],
 "metadata": {
  "kernelspec": {
   "display_name": "Python 3",
   "language": "python",
   "name": "python3"
  },
  "language_info": {
   "codemirror_mode": {
    "name": "ipython",
    "version": 3
   },
   "file_extension": ".py",
   "mimetype": "text/x-python",
   "name": "python",
   "nbconvert_exporter": "python",
   "pygments_lexer": "ipython3",
   "version": "3.9.7"
  }
 },
 "nbformat": 4,
 "nbformat_minor": 2
}
