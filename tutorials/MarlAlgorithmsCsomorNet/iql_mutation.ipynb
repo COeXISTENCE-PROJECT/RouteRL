{
 "cells": [
  {
   "cell_type": "markdown",
   "metadata": {},
   "source": [
    "# Independent Q-learning"
   ]
  },
  {
   "cell_type": "markdown",
   "metadata": {},
   "source": [
    "> In this notebook, we implement the **[Independent Q learning]()** Multi Agent Reinforcement Leaning (MARL) algorithm in our environment. \n",
    "\n",
    "\n",
    "> Tutorial based on [IQL TorchRL Tutorial](https://github.com/pytorch/rl/blob/main/sota-implementations/multiagent/iql.py)."
   ]
  },
  {
   "cell_type": "markdown",
   "metadata": {},
   "source": [
    "#### High-level overview of IQL algorithm\n",
    "\n",
    "In IQL a centralized state-action value function is used, Q<sub>tot</sub>, and each agent α learns an individual action-value function Q<sub>α</sub>, independently."
   ]
  },
  {
   "cell_type": "markdown",
   "metadata": {},
   "source": [
    "### Simulation overview"
   ]
  },
  {
   "cell_type": "markdown",
   "metadata": {},
   "source": [
    "> We simulate our environment with an initial population of **20 human agents**. These agents navigate the environment and eventually converge on the fastest path. After this convergence, we will transition **10 of these human agents** into **machine agents**, specifically autonomous vehicles (AVs), which will then employ the Independent Q learning reinforcement learning algorithm to further refine their learning."
   ]
  },
  {
   "cell_type": "markdown",
   "metadata": {},
   "source": [
    "#### Imported libraries"
   ]
  },
  {
   "cell_type": "code",
   "execution_count": 1,
   "metadata": {},
   "outputs": [],
   "source": [
    "\n",
    "import sys\n",
    "import os\n",
    "import os\n",
    "import time\n",
    "import torch\n",
    "\n",
    "from tensordict.nn import TensorDictModule, TensorDictSequential\n",
    "from torchrl.envs.libs.pettingzoo import PettingZooWrapper\n",
    "from torchrl.envs.transforms import TransformedEnv, RewardSum\n",
    "from torchrl.envs.utils import check_env_specs\n",
    "from torch import nn\n",
    "from torchrl._utils import logger as torchrl_logger\n",
    "from torchrl.collectors import SyncDataCollector\n",
    "from torchrl.data import TensorDictReplayBuffer\n",
    "from torchrl.data.replay_buffers.samplers import SamplerWithoutReplacement\n",
    "from torchrl.data.replay_buffers.storages import LazyTensorStorage\n",
    "from torchrl.modules import EGreedyModule, QValueModule, SafeSequential\n",
    "from torchrl.modules.models.multiagent import MultiAgentMLP\n",
    "from torchrl.objectives import SoftUpdate, ValueEstimators, DQNLoss\n",
    "\n",
    "sys.path.append(os.path.abspath(os.path.join(os.getcwd(), '../../')))\n",
    "\n",
    "from RouteRL.environment.environment import TrafficEnvironment\n",
    "from RouteRL.utilities import get_params\n",
    "\n",
    "os.environ[\"KMP_DUPLICATE_LIB_OK\"]=\"TRUE\"\n"
   ]
  },
  {
   "cell_type": "code",
   "execution_count": 2,
   "metadata": {},
   "outputs": [
    {
     "name": "stdout",
     "output_type": "stream",
     "text": [
      "device is:  cpu\n"
     ]
    }
   ],
   "source": [
    "device = (\n",
    "    torch.device(0)\n",
    "    if torch.cuda.is_available()\n",
    "    else torch.device(\"cpu\")\n",
    ")\n",
    "\n",
    "print(\"device is: \", device)"
   ]
  },
  {
   "cell_type": "markdown",
   "metadata": {},
   "source": [
    "#### Hyperparameters setting"
   ]
  },
  {
   "cell_type": "code",
   "execution_count": 3,
   "metadata": {},
   "outputs": [],
   "source": [
    "\n",
    "# Sampling\n",
    "frames_per_batch = 150  # Number of team frames collected per training iteration\n",
    "n_iters = 100  # Number of sampling and training iterations - the episodes the plotter plots\n",
    "total_frames = frames_per_batch * n_iters\n",
    "\n",
    "# Training\n",
    "num_epochs = 1  # Number of optimization steps per training iteration \n",
    "minibatch_size = 32  # Size of the mini-batches in each optimization step\n",
    "lr = 3e-3 # Learning rate\n",
    "max_grad_norm = 10.0  # Maximum norm for the gradients\n",
    "memory_size = 500  # Size of the replay buffer\n",
    "tau =  0.05\n",
    "gamma = 0.99  # discount factor"
   ]
  },
  {
   "cell_type": "markdown",
   "metadata": {},
   "source": [
    "#### Environment initialization"
   ]
  },
  {
   "cell_type": "markdown",
   "metadata": {},
   "source": [
    "> In this example, the environment initially contains only human agents."
   ]
  },
  {
   "cell_type": "code",
   "execution_count": 4,
   "metadata": {},
   "outputs": [
    {
     "name": "stdout",
     "output_type": "stream",
     "text": [
      "[CONFIRMED] Environment variable exists: SUMO_HOME\n",
      "[SUCCESS] Added module directory: /opt/homebrew/opt/sumo/share/sumo/tools\n",
      "TrafficEnvironment with 100 agents.            \n",
      "0 machines and 100 humans.            \n",
      "Machines: []            \n",
      "Humans: [Human 0, Human 1, Human 2, Human 3, Human 4, Human 5, Human 6, Human 7, Human 8, Human 9, Human 10, Human 11, Human 12, Human 13, Human 14, Human 15, Human 16, Human 17, Human 18, Human 19, Human 20, Human 21, Human 22, Human 23, Human 24, Human 25, Human 26, Human 27, Human 28, Human 29, Human 30, Human 31, Human 32, Human 33, Human 34, Human 35, Human 36, Human 37, Human 38, Human 39, Human 40, Human 41, Human 42, Human 43, Human 44, Human 45, Human 46, Human 47, Human 48, Human 49, Human 50, Human 51, Human 52, Human 53, Human 54, Human 55, Human 56, Human 57, Human 58, Human 59, Human 60, Human 61, Human 62, Human 63, Human 64, Human 65, Human 66, Human 67, Human 68, Human 69, Human 70, Human 71, Human 72, Human 73, Human 74, Human 75, Human 76, Human 77, Human 78, Human 79, Human 80, Human 81, Human 82, Human 83, Human 84, Human 85, Human 86, Human 87, Human 88, Human 89, Human 90, Human 91, Human 92, Human 93, Human 94, Human 95, Human 96, Human 97, Human 98, Human 99]\n"
     ]
    }
   ],
   "source": [
    "params= {\n",
    "    \"agent_generation_parameters\" : {\n",
    "        \"num_agents\" : 100,\n",
    "        \"ratio_mutating\" : 0.3\n",
    "    }\n",
    "}\n",
    "\n",
    "env = TrafficEnvironment(params, generate_agent_data=True, generate_paths=True)\n",
    "\n",
    "print(env)"
   ]
  },
  {
   "cell_type": "markdown",
   "metadata": {},
   "source": [
    "> Reset the environment and the connection with SUMO"
   ]
  },
  {
   "cell_type": "code",
   "execution_count": 5,
   "metadata": {},
   "outputs": [
    {
     "name": "stdout",
     "output_type": "stream",
     "text": [
      " Retrying in 1 seconds\n"
     ]
    },
    {
     "data": {
      "text/plain": [
       "({}, {})"
      ]
     },
     "execution_count": 5,
     "metadata": {},
     "output_type": "execute_result"
    }
   ],
   "source": [
    "env.start()\n",
    "env.reset()"
   ]
  },
  {
   "cell_type": "markdown",
   "metadata": {},
   "source": [
    "#### Human learning"
   ]
  },
  {
   "cell_type": "code",
   "execution_count": 6,
   "metadata": {},
   "outputs": [],
   "source": [
    "num_episodes = 100\n",
    "\n",
    "for episode in range(num_episodes):\n",
    "    env.step()"
   ]
  },
  {
   "cell_type": "markdown",
   "metadata": {},
   "source": [
    "#### Mutation"
   ]
  },
  {
   "cell_type": "markdown",
   "metadata": {},
   "source": [
    "> **Mutation**: a portion of human agents are converted into machine agents (autonomous vehicles). You can adjust the number of agents to be mutated in the <code style=\"color:white\">/params.json</code> file."
   ]
  },
  {
   "cell_type": "code",
   "execution_count": 7,
   "metadata": {},
   "outputs": [
    {
     "name": "stdout",
     "output_type": "stream",
     "text": [
      "TrafficEnvironment with 100 agents.            \n",
      "25 machines and 75 humans.            \n",
      "Machines: [Machine 60, Machine 37, Machine 65, Machine 77, Machine 95, Machine 34, Machine 41, Machine 70, Machine 17, Machine 88, Machine 57, Machine 27, Machine 73, Machine 31, Machine 66, Machine 39, Machine 61, Machine 45, Machine 98, Machine 62, Machine 22, Machine 1, Machine 40, Machine 99, Machine 46]            \n",
      "Humans: [Human 0, Human 2, Human 3, Human 4, Human 5, Human 6, Human 7, Human 8, Human 9, Human 10, Human 11, Human 12, Human 13, Human 14, Human 15, Human 16, Human 18, Human 19, Human 20, Human 21, Human 23, Human 24, Human 25, Human 26, Human 28, Human 29, Human 30, Human 32, Human 33, Human 35, Human 36, Human 38, Human 42, Human 43, Human 44, Human 47, Human 48, Human 49, Human 50, Human 51, Human 52, Human 53, Human 54, Human 55, Human 56, Human 58, Human 59, Human 63, Human 64, Human 67, Human 68, Human 69, Human 71, Human 72, Human 74, Human 75, Human 76, Human 78, Human 79, Human 80, Human 81, Human 82, Human 83, Human 84, Human 85, Human 86, Human 87, Human 89, Human 90, Human 91, Human 92, Human 93, Human 94, Human 96, Human 97]\n"
     ]
    }
   ],
   "source": [
    "env.mutation()\n",
    "print(env)"
   ]
  },
  {
   "cell_type": "markdown",
   "metadata": {},
   "source": [
    "> Create a group that contains all the machine (RL) agents.\n",
    "\n",
    ">  **Hint:** the agents aren't competely independent in this example."
   ]
  },
  {
   "cell_type": "markdown",
   "metadata": {},
   "source": [
    "#### PettingZoo environment wrapper"
   ]
  },
  {
   "cell_type": "code",
   "execution_count": 8,
   "metadata": {},
   "outputs": [],
   "source": [
    "group = {'agents': [str(machine.id) for machine in env.machine_agents]}\n",
    "\n",
    "env = PettingZooWrapper(\n",
    "    env=env,\n",
    "    use_mask=True,\n",
    "    categorical_actions=True,\n",
    "    done_on_any = False,\n",
    "    group_map=group,\n",
    "    device=device\n",
    ")"
   ]
  },
  {
   "cell_type": "markdown",
   "metadata": {},
   "source": [
    "> The environment is defined by a series of metadata that describe what can be expected during its execution. \n",
    "\n",
    "There are four specs to look at:\n",
    "\n",
    "- <code style=\"color:white\">action_spec</code> defines the action space;\n",
    "\n",
    "- <code style=\"color:white\">reward_spec</code> defines the reward domain;\n",
    "\n",
    "- <code style=\"color:white\">done_spec</code> defines the done domain;\n",
    "\n",
    "- <code style=\"color:white\">observation_spec</code> which defines the domain of all other outputs from environment steps;"
   ]
  },
  {
   "cell_type": "code",
   "execution_count": 9,
   "metadata": {},
   "outputs": [
    {
     "data": {
      "text/plain": [
       "''"
      ]
     },
     "execution_count": 9,
     "metadata": {},
     "output_type": "execute_result"
    }
   ],
   "source": [
    "\"\"\"\n",
    "print(\"action_spec:\", env.full_action_spec, \"\\n\\n\")\n",
    "print(\"reward_spec:\", env.full_reward_spec, \"\\n\\n\")\n",
    "print(\"done_spec:\", env.full_done_spec, \"\\n\\n\")\n",
    "print(\"observation_spec:\", env.observation_spec, \"\\n\\n\")\n",
    "\"\"\"\n",
    ";"
   ]
  },
  {
   "cell_type": "markdown",
   "metadata": {},
   "source": [
    "#### Transforms"
   ]
  },
  {
   "cell_type": "markdown",
   "metadata": {},
   "source": [
    "> We can append any TorchRL transform we need to our environment. These will modify its input/output in some desired way. In multi-agent contexts, it is paramount to provide explicitly the keys to modify.\n",
    "\n"
   ]
  },
  {
   "cell_type": "markdown",
   "metadata": {},
   "source": [
    "Here we instatiate a <code style=\"color:white\">RewardSum</code> transformer that will sum rewards over episode."
   ]
  },
  {
   "cell_type": "code",
   "execution_count": 10,
   "metadata": {},
   "outputs": [],
   "source": [
    "env = TransformedEnv(\n",
    "    env,\n",
    "    RewardSum(in_keys=[env.reward_key], out_keys=[(\"agents\", \"episode_reward\")]),\n",
    ")"
   ]
  },
  {
   "cell_type": "markdown",
   "metadata": {},
   "source": [
    "The <code style=\"color:white\">check_env_specs()</code> function runs a small rollout and compared it output against the environment specs. It will raise an error if the specs aren't properly defined."
   ]
  },
  {
   "cell_type": "code",
   "execution_count": 11,
   "metadata": {},
   "outputs": [
    {
     "name": "stderr",
     "output_type": "stream",
     "text": [
      "2025-01-31 00:10:04,269 [torchrl][INFO] check_env_specs succeeded!\n"
     ]
    },
    {
     "data": {
      "text/plain": [
       "TensorDict(\n",
       "    fields={\n",
       "        agents: TensorDict(\n",
       "            fields={\n",
       "                done: Tensor(shape=torch.Size([25, 1]), device=cpu, dtype=torch.bool, is_shared=False),\n",
       "                episode_reward: Tensor(shape=torch.Size([25, 1]), device=cpu, dtype=torch.float32, is_shared=False),\n",
       "                mask: Tensor(shape=torch.Size([25]), device=cpu, dtype=torch.bool, is_shared=False),\n",
       "                observation: Tensor(shape=torch.Size([25, 3]), device=cpu, dtype=torch.float32, is_shared=False),\n",
       "                terminated: Tensor(shape=torch.Size([25, 1]), device=cpu, dtype=torch.bool, is_shared=False),\n",
       "                truncated: Tensor(shape=torch.Size([25, 1]), device=cpu, dtype=torch.bool, is_shared=False)},\n",
       "            batch_size=torch.Size([25]),\n",
       "            device=cpu,\n",
       "            is_shared=False),\n",
       "        done: Tensor(shape=torch.Size([1]), device=cpu, dtype=torch.bool, is_shared=False),\n",
       "        terminated: Tensor(shape=torch.Size([1]), device=cpu, dtype=torch.bool, is_shared=False),\n",
       "        truncated: Tensor(shape=torch.Size([1]), device=cpu, dtype=torch.bool, is_shared=False)},\n",
       "    batch_size=torch.Size([]),\n",
       "    device=cpu,\n",
       "    is_shared=False)"
      ]
     },
     "execution_count": 11,
     "metadata": {},
     "output_type": "execute_result"
    }
   ],
   "source": [
    "check_env_specs(env)\n",
    "env.reset()"
   ]
  },
  {
   "cell_type": "markdown",
   "metadata": {},
   "source": [
    "#### Policy network"
   ]
  },
  {
   "cell_type": "markdown",
   "metadata": {},
   "source": [
    "> Instantiate an `MPL` that can be used in multi-agent contexts."
   ]
  },
  {
   "cell_type": "code",
   "execution_count": 12,
   "metadata": {},
   "outputs": [],
   "source": [
    "net = MultiAgentMLP(\n",
    "        n_agent_inputs=env.observation_spec[\"agents\", \"observation\"].shape[-1],\n",
    "        n_agent_outputs=env.action_spec.space.n,\n",
    "        n_agents=env.n_agents,\n",
    "        centralised=False,\n",
    "        share_params=False,\n",
    "        device=device,\n",
    "        depth=2,\n",
    "        num_cells=32,\n",
    "        activation_class=nn.ReLU,\n",
    "    )"
   ]
  },
  {
   "cell_type": "markdown",
   "metadata": {},
   "source": [
    "> The neural network is wrapped in a `TensorDictModule`, which is responsible for managing the input and output interactions with the tensordict. Specifically, the module reads from the specified `in_keys`, processes the inputs through the neural network, and writes the resulting outputs to the defined `out_keys`. "
   ]
  },
  {
   "cell_type": "code",
   "execution_count": 13,
   "metadata": {},
   "outputs": [],
   "source": [
    "module = TensorDictModule(\n",
    "        net, in_keys=[(\"agents\", \"observation\")], out_keys=[(\"agents\", \"action_value\")]\n",
    ")"
   ]
  },
  {
   "cell_type": "markdown",
   "metadata": {},
   "source": [
    "> **`QValueModule`** takes a tensor as input, which contains the `Q-values` (these values indicate how good it is to take each action in the given state). It identifies the action with the highest `Q-values` using the `argmax` operation."
   ]
  },
  {
   "cell_type": "code",
   "execution_count": 14,
   "metadata": {},
   "outputs": [],
   "source": [
    "value_module = QValueModule(\n",
    "    action_value_key=(\"agents\", \"action_value\"),\n",
    "    out_keys=[\n",
    "        env.action_key,\n",
    "        (\"agents\", \"action_value\"),\n",
    "        (\"agents\", \"chosen_action_value\"),\n",
    "    ],\n",
    "    spec=env.action_spec,\n",
    "    action_space=None,\n",
    ")"
   ]
  },
  {
   "cell_type": "markdown",
   "metadata": {},
   "source": [
    "> **`SafeSequential`** is a `TensordictModule` that will concatenate the parameter lists in a single list."
   ]
  },
  {
   "cell_type": "code",
   "execution_count": 15,
   "metadata": {},
   "outputs": [],
   "source": [
    "qnet = SafeSequential(module, value_module)"
   ]
  },
  {
   "cell_type": "markdown",
   "metadata": {},
   "source": [
    "> In the already made `Q network` the **`Epsilon-Greedy exploration module`** is added. This module randomly updates the actions in a tensordict given an epsilon greedy exploration strategy."
   ]
  },
  {
   "cell_type": "code",
   "execution_count": 16,
   "metadata": {},
   "outputs": [],
   "source": [
    "qnet_explore = TensorDictSequential(\n",
    "    qnet,\n",
    "    EGreedyModule(\n",
    "        eps_init=0.99,\n",
    "        eps_end=0,\n",
    "        annealing_num_steps=int(total_frames * (1 / 3)),\n",
    "        action_key=env.action_key,\n",
    "        spec=env.action_spec,\n",
    "    ),\n",
    ")"
   ]
  },
  {
   "cell_type": "markdown",
   "metadata": {},
   "source": [
    "#### Collector"
   ]
  },
  {
   "cell_type": "markdown",
   "metadata": {},
   "source": [
    "Collectors perform the following operations:\n",
    "\n",
    "1. **Reset Environment**: Initialize the environment.\n",
    "2. **Compute Action**: Determine the next action using the policy and the latest observation.\n",
    "3. **Execute Step**: Step through the environment with the computed action.\n",
    "\n",
    "These operations repeat until the environment signals to stop."
   ]
  },
  {
   "cell_type": "code",
   "execution_count": 17,
   "metadata": {},
   "outputs": [],
   "source": [
    "collector = SyncDataCollector(\n",
    "        env,\n",
    "        qnet_explore,\n",
    "        device=device,\n",
    "        storing_device=device,\n",
    "        frames_per_batch=frames_per_batch,\n",
    "        total_frames=total_frames,\n",
    "    )"
   ]
  },
  {
   "cell_type": "markdown",
   "metadata": {},
   "source": [
    "#### Replay buffer"
   ]
  },
  {
   "cell_type": "markdown",
   "metadata": {},
   "source": [
    "> In an off-policy setting, the replay buffer exceeds the number of frames utilized for policy updates, allowing agents to learn from previous rollouts as well.\n",
    "\n"
   ]
  },
  {
   "cell_type": "code",
   "execution_count": 18,
   "metadata": {},
   "outputs": [],
   "source": [
    "replay_buffer = TensorDictReplayBuffer(\n",
    "        storage=LazyTensorStorage(memory_size, device=device),\n",
    "        sampler=SamplerWithoutReplacement(),\n",
    "        batch_size=minibatch_size,\n",
    "    )"
   ]
  },
  {
   "cell_type": "markdown",
   "metadata": {},
   "source": [
    "#### DQN loss function"
   ]
  },
  {
   "cell_type": "code",
   "execution_count": 19,
   "metadata": {},
   "outputs": [],
   "source": [
    "loss_module = DQNLoss(qnet, delay_value=True)\n",
    "\n",
    "loss_module.set_keys(\n",
    "        action_value=(\"agents\", \"action_value\"),\n",
    "        action=env.action_key,\n",
    "        value=(\"agents\", \"chosen_action_value\"),\n",
    "        reward=env.reward_key,\n",
    "        done=(\"agents\", \"done\"),\n",
    "        terminated=(\"agents\", \"terminated\"),\n",
    ")\n",
    "\n",
    "loss_module.make_value_estimator(ValueEstimators.TD0, gamma=gamma)\n",
    "target_net_updater = SoftUpdate(loss_module, eps=1-tau)\n",
    "\n",
    "optim = torch.optim.Adam(loss_module.parameters(), lr)"
   ]
  },
  {
   "cell_type": "markdown",
   "metadata": {},
   "source": [
    "#### Training loop"
   ]
  },
  {
   "cell_type": "code",
   "execution_count": 20,
   "metadata": {},
   "outputs": [
    {
     "name": "stderr",
     "output_type": "stream",
     "text": [
      "2025-01-31 00:10:09,539 [torchrl][INFO] \n",
      "Iteration 0\n",
      "2025-01-31 00:10:14,236 [torchrl][INFO] \n",
      "Iteration 1\n",
      "2025-01-31 00:10:18,717 [torchrl][INFO] \n",
      "Iteration 2\n",
      "2025-01-31 00:10:23,315 [torchrl][INFO] \n",
      "Iteration 3\n",
      "2025-01-31 00:10:27,941 [torchrl][INFO] \n",
      "Iteration 4\n",
      "2025-01-31 00:10:32,656 [torchrl][INFO] \n",
      "Iteration 5\n",
      "2025-01-31 00:10:37,428 [torchrl][INFO] \n",
      "Iteration 6\n",
      "2025-01-31 00:10:42,028 [torchrl][INFO] \n",
      "Iteration 7\n",
      "2025-01-31 00:10:47,025 [torchrl][INFO] \n",
      "Iteration 8\n",
      "2025-01-31 00:10:51,868 [torchrl][INFO] \n",
      "Iteration 9\n",
      "2025-01-31 00:10:56,525 [torchrl][INFO] \n",
      "Iteration 10\n",
      "2025-01-31 00:11:01,297 [torchrl][INFO] \n",
      "Iteration 11\n",
      "2025-01-31 00:11:05,951 [torchrl][INFO] \n",
      "Iteration 12\n",
      "2025-01-31 00:11:10,973 [torchrl][INFO] \n",
      "Iteration 13\n",
      "2025-01-31 00:11:15,912 [torchrl][INFO] \n",
      "Iteration 14\n",
      "2025-01-31 00:11:20,627 [torchrl][INFO] \n",
      "Iteration 15\n",
      "2025-01-31 00:11:25,234 [torchrl][INFO] \n",
      "Iteration 16\n",
      "2025-01-31 00:11:29,755 [torchrl][INFO] \n",
      "Iteration 17\n",
      "2025-01-31 00:11:34,431 [torchrl][INFO] \n",
      "Iteration 18\n",
      "2025-01-31 00:11:39,090 [torchrl][INFO] \n",
      "Iteration 19\n",
      "2025-01-31 00:11:43,983 [torchrl][INFO] \n",
      "Iteration 20\n",
      "2025-01-31 00:11:48,906 [torchrl][INFO] \n",
      "Iteration 21\n",
      "2025-01-31 00:11:53,699 [torchrl][INFO] \n",
      "Iteration 22\n",
      "2025-01-31 00:11:58,372 [torchrl][INFO] \n",
      "Iteration 23\n",
      "2025-01-31 00:12:02,965 [torchrl][INFO] \n",
      "Iteration 24\n",
      "2025-01-31 00:12:07,650 [torchrl][INFO] \n",
      "Iteration 25\n",
      "2025-01-31 00:12:12,534 [torchrl][INFO] \n",
      "Iteration 26\n",
      "2025-01-31 00:12:18,318 [torchrl][INFO] \n",
      "Iteration 27\n",
      "2025-01-31 00:12:23,010 [torchrl][INFO] \n",
      "Iteration 28\n",
      "2025-01-31 00:12:27,771 [torchrl][INFO] \n",
      "Iteration 29\n",
      "2025-01-31 00:12:32,294 [torchrl][INFO] \n",
      "Iteration 30\n",
      "2025-01-31 00:12:37,324 [torchrl][INFO] \n",
      "Iteration 31\n",
      "2025-01-31 00:12:42,499 [torchrl][INFO] \n",
      "Iteration 32\n",
      "2025-01-31 00:12:47,099 [torchrl][INFO] \n",
      "Iteration 33\n",
      "2025-01-31 00:12:51,766 [torchrl][INFO] \n",
      "Iteration 34\n",
      "2025-01-31 00:12:56,334 [torchrl][INFO] \n",
      "Iteration 35\n",
      "2025-01-31 00:13:01,006 [torchrl][INFO] \n",
      "Iteration 36\n",
      "2025-01-31 00:13:05,646 [torchrl][INFO] \n",
      "Iteration 37\n",
      "2025-01-31 00:13:10,260 [torchrl][INFO] \n",
      "Iteration 38\n",
      "2025-01-31 00:13:14,904 [torchrl][INFO] \n",
      "Iteration 39\n",
      "2025-01-31 00:13:19,595 [torchrl][INFO] \n",
      "Iteration 40\n",
      "2025-01-31 00:13:24,393 [torchrl][INFO] \n",
      "Iteration 41\n",
      "2025-01-31 00:13:29,175 [torchrl][INFO] \n",
      "Iteration 42\n",
      "2025-01-31 00:13:33,873 [torchrl][INFO] \n",
      "Iteration 43\n",
      "2025-01-31 00:13:38,507 [torchrl][INFO] \n",
      "Iteration 44\n",
      "2025-01-31 00:13:43,224 [torchrl][INFO] \n",
      "Iteration 45\n",
      "2025-01-31 00:13:47,741 [torchrl][INFO] \n",
      "Iteration 46\n",
      "2025-01-31 00:13:53,055 [torchrl][INFO] \n",
      "Iteration 47\n",
      "2025-01-31 00:13:57,603 [torchrl][INFO] \n",
      "Iteration 48\n",
      "2025-01-31 00:14:02,179 [torchrl][INFO] \n",
      "Iteration 49\n",
      "2025-01-31 00:14:06,715 [torchrl][INFO] \n",
      "Iteration 50\n",
      "2025-01-31 00:14:11,277 [torchrl][INFO] \n",
      "Iteration 51\n",
      "2025-01-31 00:14:15,749 [torchrl][INFO] \n",
      "Iteration 52\n",
      "2025-01-31 00:14:20,251 [torchrl][INFO] \n",
      "Iteration 53\n",
      "2025-01-31 00:14:25,178 [torchrl][INFO] \n",
      "Iteration 54\n",
      "2025-01-31 00:14:30,077 [torchrl][INFO] \n",
      "Iteration 55\n",
      "2025-01-31 00:14:34,955 [torchrl][INFO] \n",
      "Iteration 56\n",
      "2025-01-31 00:14:39,564 [torchrl][INFO] \n",
      "Iteration 57\n",
      "2025-01-31 00:14:44,104 [torchrl][INFO] \n",
      "Iteration 58\n",
      "2025-01-31 00:14:48,591 [torchrl][INFO] \n",
      "Iteration 59\n",
      "2025-01-31 00:14:53,073 [torchrl][INFO] \n",
      "Iteration 60\n",
      "2025-01-31 00:14:57,487 [torchrl][INFO] \n",
      "Iteration 61\n",
      "2025-01-31 00:15:01,946 [torchrl][INFO] \n",
      "Iteration 62\n",
      "2025-01-31 00:15:06,529 [torchrl][INFO] \n",
      "Iteration 63\n",
      "2025-01-31 00:15:11,171 [torchrl][INFO] \n",
      "Iteration 64\n",
      "2025-01-31 00:15:15,826 [torchrl][INFO] \n",
      "Iteration 65\n",
      "2025-01-31 00:15:20,371 [torchrl][INFO] \n",
      "Iteration 66\n",
      "2025-01-31 00:15:24,976 [torchrl][INFO] \n",
      "Iteration 67\n",
      "2025-01-31 00:15:29,503 [torchrl][INFO] \n",
      "Iteration 68\n",
      "2025-01-31 00:15:34,030 [torchrl][INFO] \n",
      "Iteration 69\n",
      "2025-01-31 00:15:38,553 [torchrl][INFO] \n",
      "Iteration 70\n",
      "2025-01-31 00:15:43,227 [torchrl][INFO] \n",
      "Iteration 71\n",
      "2025-01-31 00:15:47,795 [torchrl][INFO] \n",
      "Iteration 72\n",
      "2025-01-31 00:15:52,315 [torchrl][INFO] \n",
      "Iteration 73\n",
      "2025-01-31 00:15:56,943 [torchrl][INFO] \n",
      "Iteration 74\n",
      "2025-01-31 00:16:01,476 [torchrl][INFO] \n",
      "Iteration 75\n",
      "2025-01-31 00:16:05,990 [torchrl][INFO] \n",
      "Iteration 76\n",
      "2025-01-31 00:16:10,490 [torchrl][INFO] \n",
      "Iteration 77\n",
      "2025-01-31 00:16:15,021 [torchrl][INFO] \n",
      "Iteration 78\n",
      "2025-01-31 00:16:19,646 [torchrl][INFO] \n",
      "Iteration 79\n",
      "2025-01-31 00:16:24,150 [torchrl][INFO] \n",
      "Iteration 80\n",
      "2025-01-31 00:16:28,705 [torchrl][INFO] \n",
      "Iteration 81\n",
      "2025-01-31 00:16:33,229 [torchrl][INFO] \n",
      "Iteration 82\n",
      "2025-01-31 00:16:37,742 [torchrl][INFO] \n",
      "Iteration 83\n",
      "2025-01-31 00:16:42,345 [torchrl][INFO] \n",
      "Iteration 84\n",
      "2025-01-31 00:16:46,964 [torchrl][INFO] \n",
      "Iteration 85\n",
      "2025-01-31 00:16:51,495 [torchrl][INFO] \n",
      "Iteration 86\n",
      "2025-01-31 00:16:56,114 [torchrl][INFO] \n",
      "Iteration 87\n",
      "2025-01-31 00:17:00,698 [torchrl][INFO] \n",
      "Iteration 88\n",
      "2025-01-31 00:17:05,253 [torchrl][INFO] \n",
      "Iteration 89\n",
      "2025-01-31 00:17:09,840 [torchrl][INFO] \n",
      "Iteration 90\n",
      "2025-01-31 00:17:14,455 [torchrl][INFO] \n",
      "Iteration 91\n",
      "2025-01-31 00:17:19,078 [torchrl][INFO] \n",
      "Iteration 92\n",
      "2025-01-31 00:17:23,640 [torchrl][INFO] \n",
      "Iteration 93\n",
      "2025-01-31 00:17:28,198 [torchrl][INFO] \n",
      "Iteration 94\n",
      "2025-01-31 00:17:32,778 [torchrl][INFO] \n",
      "Iteration 95\n",
      "2025-01-31 00:17:37,358 [torchrl][INFO] \n",
      "Iteration 96\n",
      "2025-01-31 00:17:42,334 [torchrl][INFO] \n",
      "Iteration 97\n",
      "2025-01-31 00:17:46,986 [torchrl][INFO] \n",
      "Iteration 98\n",
      "2025-01-31 00:17:51,884 [torchrl][INFO] \n",
      "Iteration 99\n"
     ]
    }
   ],
   "source": [
    "for i, tensordict_data in enumerate(collector):\n",
    "    torchrl_logger.info(f\"\\nIteration {i}\")\n",
    "\n",
    "    current_frames = tensordict_data.numel()\n",
    "    data_view = tensordict_data.reshape(-1)\n",
    "    replay_buffer.extend(data_view)\n",
    "    \n",
    "    training_tds = []\n",
    "\n",
    "    ## Update the policies of the learning agents\n",
    "    for _ in range(num_epochs):\n",
    "        for _ in range(frames_per_batch // minibatch_size):\n",
    "            subdata = replay_buffer.sample()\n",
    "            loss_vals = loss_module(subdata)\n",
    "            training_tds.append(loss_vals.detach())\n",
    "\n",
    "            loss_value = loss_vals[\"loss\"]\n",
    "\n",
    "            loss_value.backward()\n",
    "\n",
    "            #total_norm = torch.nn.utils.clip_grad_norm_(loss_module.parameters(), max_grad_norm)\n",
    "            #training_tds[-1].set(\"grad_norm\", total_norm.mean())\n",
    "\n",
    "            optim.step()\n",
    "            optim.zero_grad()\n",
    "        target_net_updater.step()##\n",
    "\n",
    "    qnet_explore[1].step(frames=current_frames)  # Update exploration annealing\n",
    "    collector.update_policy_weights_()\n",
    "    \n",
    "    training_tds = torch.stack(training_tds) \n",
    "\n",
    "collector.shutdown()"
   ]
  },
  {
   "cell_type": "code",
   "execution_count": 21,
   "metadata": {},
   "outputs": [],
   "source": [
    "env.plot_results()"
   ]
  }
 ],
 "metadata": {
  "kernelspec": {
   "display_name": "venv",
   "language": "python",
   "name": "python3"
  },
  "language_info": {
   "codemirror_mode": {
    "name": "ipython",
    "version": 3
   },
   "file_extension": ".py",
   "mimetype": "text/x-python",
   "name": "python",
   "nbconvert_exporter": "python",
   "pygments_lexer": "ipython3",
   "version": "3.12.7"
  }
 },
 "nbformat": 4,
 "nbformat_minor": 2
}
