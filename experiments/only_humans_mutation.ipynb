{
 "cells": [
  {
   "cell_type": "markdown",
   "metadata": {},
   "source": [
    "> ERC Starting Grant on COeXISTENCE between humans and machines in urban mobility.\n",
    "\n"
   ]
  },
  {
   "cell_type": "markdown",
   "metadata": {},
   "source": [
    "<img src=\"../images/img_mileston1.png\" alt=\"Milestone 1 Image\" width=\"500\" height=\"400\">"
   ]
  },
  {
   "cell_type": "markdown",
   "metadata": {},
   "source": [
    "# Title: Human learning and Mutation\n",
    "## Name: Anastasia\n",
    "### Date: July 15, 2024\n",
    "---"
   ]
  },
  {
   "cell_type": "markdown",
   "metadata": {},
   "source": [
    "### Description\n",
    "\n",
    "> In this notebook, we implement the training of a number of human agents using the Gawron model and then the mutation of some of the human agents to machine agents.\n",
    "---"
   ]
  },
  {
   "cell_type": "markdown",
   "metadata": {},
   "source": [
    "## Objective\n",
    "\n",
    "> The purpose of this notebook is to verify the functionality of our environment when it contains only human agents that mutate to machine agents.\n",
    "---"
   ]
  },
  {
   "cell_type": "markdown",
   "metadata": {},
   "source": [
    "## Experiment Summary\n",
    "\n",
    "### Network Architecture\n",
    "- Csomor network\n",
    "\n",
    "\n",
    "### Agents\n",
    "| **Type**          |           |\n",
    "|-------------------|---------------------|\n",
    "| **Number**        | 18 humans - 15 humans and 3 machines |\n",
    "| **Total demand** | random |\n",
    "\n",
    "\n",
    "### Origin and Destination Details\n",
    "| **Origin Count**      | 2                            |\n",
    "|-----------------------|------------------------------|\n",
    "| **Destination Count** | 2                            |\n",
    "| **Origin Pairing**    | 279952229#0, 115604053       |\n",
    "| **Destination Pairing**| -115602933#2, -441496282#1     |\n",
    "\n",
    "    \n",
    "\n",
    "### Hardware Utilized for Experiment Execution\n",
    "| **Type of Machine** | Personal computer (or server) |\n",
    "|----------------------|-------------------------------|\n",
    "| **CPU**              | 12th Gen Intel(R) Core(TM) i7-1255U |\n",
    "|                      | Cores: 10                   |\n",
    "|                      | Sockets: 1                  |\n",
    "|                      | Base Speed: 1.70 GHz        |\n",
    "| **Memory**           | 16GB                          |\n",
    "| **Disc (SSD)**       | 477 GB                        |\n",
    "| **Operating System** | Windows 11                    |\n"
   ]
  },
  {
   "cell_type": "markdown",
   "metadata": {},
   "source": [
    "### Imported libraries "
   ]
  },
  {
   "cell_type": "code",
   "execution_count": 1,
   "metadata": {},
   "outputs": [],
   "source": [
    "import sys\n",
    "import os\n",
    "from tqdm import tqdm\n",
    "\n",
    "parent_dir = os.path.abspath(os.path.join(os.getcwd(), os.pardir))\n",
    "sys.path.append(parent_dir)\n",
    "\n",
    "from environment import SumoSimulator\n",
    "from environment import TrafficEnvironment\n",
    "from keychain import Keychain as kc\n",
    "from services import plotter\n",
    "from services import runner\n",
    "\n",
    "from create_agents import create_agent_objects\n",
    "from utilities import check_device\n",
    "from utilities import get_params\n",
    "from utilities import set_seeds"
   ]
  },
  {
   "cell_type": "code",
   "execution_count": 2,
   "metadata": {},
   "outputs": [],
   "source": [
    "params = get_params(kc.PARAMS_PATH)"
   ]
  },
  {
   "cell_type": "markdown",
   "metadata": {},
   "source": [
    "### Environment Creation"
   ]
  },
  {
   "cell_type": "code",
   "execution_count": 3,
   "metadata": {},
   "outputs": [
    {
     "name": "stdout",
     "output_type": "stream",
     "text": [
      "[CONFIRMED] Environment variable exists: SUMO_HOME\n",
      "[SUCCESS] Added module directory: C:\\Program Files (x86)\\Eclipse\\Sumo\\tools\n"
     ]
    }
   ],
   "source": [
    "env = TrafficEnvironment(params[kc.RUNNER], params[kc.ENVIRONMENT], params[kc.SIMULATOR], params[kc.AGENT_GEN], params[kc.AGENTS], params[kc.PHASE])"
   ]
  },
  {
   "cell_type": "code",
   "execution_count": 4,
   "metadata": {},
   "outputs": [
    {
     "data": {
      "text/plain": [
       "({}, {})"
      ]
     },
     "execution_count": 4,
     "metadata": {},
     "output_type": "execute_result"
    }
   ],
   "source": [
    "env.start()\n",
    "env.reset()"
   ]
  },
  {
   "cell_type": "markdown",
   "metadata": {},
   "source": [
    "### Training"
   ]
  },
  {
   "cell_type": "code",
   "execution_count": 5,
   "metadata": {},
   "outputs": [],
   "source": [
    "num_episodes = 50\n",
    "\n",
    "for episode in range(num_episodes):\n",
    "    env.step()"
   ]
  },
  {
   "cell_type": "markdown",
   "metadata": {},
   "source": [
    "### Mutation"
   ]
  },
  {
   "cell_type": "code",
   "execution_count": 6,
   "metadata": {},
   "outputs": [
    {
     "name": "stdout",
     "output_type": "stream",
     "text": [
      "Mutation is about to happen!\n",
      "\n",
      "There were human agents. 18 \n",
      "\n",
      "self.possible agents before is:  [] \n",
      "\n",
      "\n",
      "filtered_human_agents is:  [Human 1, Human 3, Human 5, Human 6, Human 8, Human 9, Human 11, Human 13, Human 15, Human 16, Human 17, Human 20, Human 21] \n",
      "\n",
      "\n",
      "Human that will be mutated is:  6\n"
     ]
    },
    {
     "name": "stderr",
     "output_type": "stream",
     "text": [
      "c:\\Users\\Anastasia\\anaconda3\\envs\\torchrl\\Lib\\site-packages\\tqdm\\auto.py:21: TqdmWarning: IProgress not found. Please update jupyter and ipywidgets. See https://ipywidgets.readthedocs.io/en/stable/user_install.html\n",
      "  from .autonotebook import tqdm as notebook_tqdm\n"
     ]
    },
    {
     "name": "stdout",
     "output_type": "stream",
     "text": [
      "The new machine agent is:  6\n",
      "self.possible agents is:  ['6'] \n",
      "\n",
      "\n",
      "Human that will be mutated is:  9\n",
      "The new machine agent is:  9\n",
      "self.possible agents is:  ['6', '9'] \n",
      "\n",
      "\n",
      "Human that will be mutated is:  8\n",
      "The new machine agent is:  8\n",
      "self.possible agents is:  ['6', '9', '8'] \n",
      "\n",
      "\n",
      "Now there are %s human agents.\n",
      " 15\n"
     ]
    }
   ],
   "source": [
    "env.mutation()"
   ]
  },
  {
   "cell_type": "markdown",
   "metadata": {},
   "source": [
    "### Training"
   ]
  },
  {
   "cell_type": "code",
   "execution_count": 9,
   "metadata": {},
   "outputs": [
    {
     "name": "stdout",
     "output_type": "stream",
     "text": [
      "agent 6 \n",
      "\n",
      "\n"
     ]
    }
   ],
   "source": [
    "for agent in env.agent_iter():\n",
    "    print(\"agent\", agent, \"\\n\\n\")\n",
    "    break"
   ]
  },
  {
   "cell_type": "code",
   "execution_count": 10,
   "metadata": {},
   "outputs": [
    {
     "name": "stdout",
     "output_type": "stream",
     "text": [
      "episode is:  0 \n",
      "\n",
      "\n",
      "episode is:  1 \n",
      "\n",
      "\n",
      "episode is:  2 \n",
      "\n",
      "\n",
      "episode is:  3 \n",
      "\n",
      "\n",
      "episode is:  4 \n",
      "\n",
      "\n",
      "episode is:  5 \n",
      "\n",
      "\n",
      "episode is:  6 \n",
      "\n",
      "\n",
      "episode is:  7 \n",
      "\n",
      "\n",
      "episode is:  8 \n",
      "\n",
      "\n",
      "episode is:  9 \n",
      "\n",
      "\n",
      "episode is:  10 \n",
      "\n",
      "\n",
      "episode is:  11 \n",
      "\n",
      "\n",
      "episode is:  12 \n",
      "\n",
      "\n",
      "episode is:  13 \n",
      "\n",
      "\n",
      "episode is:  14 \n",
      "\n",
      "\n",
      "episode is:  15 \n",
      "\n",
      "\n",
      "episode is:  16 \n",
      "\n",
      "\n",
      "episode is:  17 \n",
      "\n",
      "\n",
      "episode is:  18 \n",
      "\n",
      "\n",
      "episode is:  19 \n",
      "\n",
      "\n",
      "episode is:  20 \n",
      "\n",
      "\n",
      "episode is:  21 \n",
      "\n",
      "\n",
      "episode is:  22 \n",
      "\n",
      "\n",
      "episode is:  23 \n",
      "\n",
      "\n",
      "episode is:  24 \n",
      "\n",
      "\n",
      "episode is:  25 \n",
      "\n",
      "\n",
      "episode is:  26 \n",
      "\n",
      "\n",
      "episode is:  27 \n",
      "\n",
      "\n",
      "episode is:  28 \n",
      "\n",
      "\n",
      "episode is:  29 \n",
      "\n",
      "\n",
      "episode is:  30 \n",
      "\n",
      "\n",
      "episode is:  31 \n",
      "\n",
      "\n",
      "episode is:  32 \n",
      "\n",
      "\n",
      "episode is:  33 \n",
      "\n",
      "\n",
      "episode is:  34 \n",
      "\n",
      "\n",
      "episode is:  35 \n",
      "\n",
      "\n",
      "episode is:  36 \n",
      "\n",
      "\n",
      "episode is:  37 \n",
      "\n",
      "\n",
      "episode is:  38 \n",
      "\n",
      "\n",
      "episode is:  39 \n",
      "\n",
      "\n",
      "episode is:  40 \n",
      "\n",
      "\n",
      "episode is:  41 \n",
      "\n",
      "\n",
      "episode is:  42 \n",
      "\n",
      "\n",
      "episode is:  43 \n",
      "\n",
      "\n",
      "episode is:  44 \n",
      "\n",
      "\n",
      "episode is:  45 \n",
      "\n",
      "\n",
      "episode is:  46 \n",
      "\n",
      "\n",
      "episode is:  47 \n",
      "\n",
      "\n",
      "episode is:  48 \n",
      "\n",
      "\n",
      "episode is:  49 \n",
      "\n",
      "\n"
     ]
    }
   ],
   "source": [
    "num_episodes = 50\n",
    "\n",
    "for episode in range(num_episodes):\n",
    "    print(\"episode is: \", episode, \"\\n\\n\")\n",
    "    env.reset()\n",
    "\n",
    "    while(1):\n",
    "        observation, reward, termination, truncation, info = env.last()\n",
    "\n",
    "        if termination or truncation:\n",
    "            break\n",
    "        else:\n",
    "            # This is where you would insert your policy\n",
    "            action = env.action_space(agent).sample()\n",
    "\n",
    "        env.step(action)"
   ]
  },
  {
   "cell_type": "markdown",
   "metadata": {},
   "source": [
    "### Results"
   ]
  },
  {
   "cell_type": "code",
   "execution_count": 11,
   "metadata": {},
   "outputs": [
    {
     "data": {
      "text/plain": [
       "<services.plotter.Plotter at 0x19b5d2dbe10>"
      ]
     },
     "execution_count": 11,
     "metadata": {},
     "output_type": "execute_result"
    }
   ],
   "source": [
    "plotter(params[kc.PLOTTER])"
   ]
  },
  {
   "cell_type": "code",
   "execution_count": 12,
   "metadata": {},
   "outputs": [
    {
     "data": {
      "text/markdown": [
       "![actions.png](../results/only_humans_mutation/actions.png)"
      ],
      "text/plain": [
       "<IPython.core.display.Markdown object>"
      ]
     },
     "metadata": {},
     "output_type": "display_data"
    },
    {
     "data": {
      "text/markdown": [
       "![actions_shifts.png](../results/only_humans_mutation/actions_shifts.png)"
      ],
      "text/plain": [
       "<IPython.core.display.Markdown object>"
      ]
     },
     "metadata": {},
     "output_type": "display_data"
    },
    {
     "data": {
      "text/markdown": [
       "![rewards.png](../results/only_humans_mutation/rewards.png)"
      ],
      "text/plain": [
       "<IPython.core.display.Markdown object>"
      ]
     },
     "metadata": {},
     "output_type": "display_data"
    },
    {
     "data": {
      "text/markdown": [
       "![simulation_length.png](../results/only_humans_mutation/simulation_length.png)"
      ],
      "text/plain": [
       "<IPython.core.display.Markdown object>"
      ]
     },
     "metadata": {},
     "output_type": "display_data"
    },
    {
     "data": {
      "text/markdown": [
       "![travel_times.png](../results/only_humans_mutation/travel_times.png)"
      ],
      "text/plain": [
       "<IPython.core.display.Markdown object>"
      ]
     },
     "metadata": {},
     "output_type": "display_data"
    },
    {
     "data": {
      "text/markdown": [
       "![tt_dist.png](../results/only_humans_mutation/tt_dist.png)"
      ],
      "text/plain": [
       "<IPython.core.display.Markdown object>"
      ]
     },
     "metadata": {},
     "output_type": "display_data"
    }
   ],
   "source": [
    "import os\n",
    "from IPython.display import display, Markdown\n",
    "\n",
    "# Path to the images directory\n",
    "images_dir = '../results/only_humans_mutation'\n",
    "\n",
    "# List all image files in the directory\n",
    "images = [f for f in os.listdir(images_dir) if os.path.isfile(os.path.join(images_dir, f))]\n",
    "\n",
    "# Generate and display Markdown for each image\n",
    "for image in images:\n",
    "    markdown_image = f\"![{image}]({images_dir}/{image})\"\n",
    "    display(Markdown(markdown_image))"
   ]
  },
  {
   "cell_type": "code",
   "execution_count": null,
   "metadata": {},
   "outputs": [],
   "source": []
  }
 ],
 "metadata": {
  "kernelspec": {
   "display_name": "torchrl",
   "language": "python",
   "name": "python3"
  },
  "language_info": {
   "codemirror_mode": {
    "name": "ipython",
    "version": 3
   },
   "file_extension": ".py",
   "mimetype": "text/x-python",
   "name": "python",
   "nbconvert_exporter": "python",
   "pygments_lexer": "ipython3",
   "version": "3.11.8"
  }
 },
 "nbformat": 4,
 "nbformat_minor": 2
}
